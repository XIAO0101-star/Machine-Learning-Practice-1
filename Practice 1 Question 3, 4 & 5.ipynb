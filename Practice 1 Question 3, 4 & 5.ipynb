{
 "cells": [
  {
   "cell_type": "code",
   "execution_count": 1,
   "id": "c7ebbada",
   "metadata": {},
   "outputs": [
    {
     "data": {
      "text/html": [
       "<script>\n",
       "code_show_err=false; \n",
       "function code_toggle_err() {\n",
       " if (code_show_err){\n",
       " $('div.output_stderr').hide();\n",
       " } else {\n",
       " $('div.output_stderr').show();\n",
       " }\n",
       " code_show_err = !code_show_err\n",
       "} \n",
       "$( document ).ready(code_toggle_err);\n",
       "</script>\n",
       "To toggle on/off output_stderr, click <a href=\"javascript:code_toggle_err()\">here</a>."
      ],
      "text/plain": [
       "<IPython.core.display.HTML object>"
      ]
     },
     "execution_count": 1,
     "metadata": {},
     "output_type": "execute_result"
    }
   ],
   "source": [
    "from IPython.display import HTML\n",
    "HTML('''<script>\n",
    "code_show_err=false; \n",
    "function code_toggle_err() {\n",
    " if (code_show_err){\n",
    " $('div.output_stderr').hide();\n",
    " } else {\n",
    " $('div.output_stderr').show();\n",
    " }\n",
    " code_show_err = !code_show_err\n",
    "} \n",
    "$( document ).ready(code_toggle_err);\n",
    "</script>\n",
    "To toggle on/off output_stderr, click <a href=\"javascript:code_toggle_err()\">here</a>.''')"
   ]
  },
  {
   "cell_type": "code",
   "execution_count": 2,
   "id": "6172c129",
   "metadata": {},
   "outputs": [],
   "source": [
    "import pandas as pd\n",
    "import numpy as np\n",
    "from sklearn.neighbors import KNeighborsClassifier\n",
    "from sklearn.metrics import confusion_matrix\n",
    "from sklearn.model_selection import train_test_split"
   ]
  },
  {
   "cell_type": "markdown",
   "id": "4db4d807",
   "metadata": {},
   "source": [
    "Question 3 Preprocessing"
   ]
  },
  {
   "cell_type": "code",
   "execution_count": 3,
   "id": "b158c59e",
   "metadata": {},
   "outputs": [
    {
     "data": {
      "text/html": [
       "<div>\n",
       "<style scoped>\n",
       "    .dataframe tbody tr th:only-of-type {\n",
       "        vertical-align: middle;\n",
       "    }\n",
       "\n",
       "    .dataframe tbody tr th {\n",
       "        vertical-align: top;\n",
       "    }\n",
       "\n",
       "    .dataframe thead th {\n",
       "        text-align: right;\n",
       "    }\n",
       "</style>\n",
       "<table border=\"1\" class=\"dataframe\">\n",
       "  <thead>\n",
       "    <tr style=\"text-align: right;\">\n",
       "      <th></th>\n",
       "      <th>MOSTYPE</th>\n",
       "      <th>MAANTHUI</th>\n",
       "      <th>MGEMOMV</th>\n",
       "      <th>MGEMLEEF</th>\n",
       "      <th>MOSHOOFD</th>\n",
       "      <th>MGODRK</th>\n",
       "      <th>MGODPR</th>\n",
       "      <th>MGODOV</th>\n",
       "      <th>MGODGE</th>\n",
       "      <th>MRELGE</th>\n",
       "      <th>...</th>\n",
       "      <th>APERSONG</th>\n",
       "      <th>AGEZONG</th>\n",
       "      <th>AWAOREG</th>\n",
       "      <th>ABRAND</th>\n",
       "      <th>AZEILPL</th>\n",
       "      <th>APLEZIER</th>\n",
       "      <th>AFIETS</th>\n",
       "      <th>AINBOED</th>\n",
       "      <th>ABYSTAND</th>\n",
       "      <th>Purchase</th>\n",
       "    </tr>\n",
       "  </thead>\n",
       "  <tbody>\n",
       "    <tr>\n",
       "      <th>0</th>\n",
       "      <td>33</td>\n",
       "      <td>1</td>\n",
       "      <td>3</td>\n",
       "      <td>2</td>\n",
       "      <td>8</td>\n",
       "      <td>0</td>\n",
       "      <td>5</td>\n",
       "      <td>1</td>\n",
       "      <td>3</td>\n",
       "      <td>7</td>\n",
       "      <td>...</td>\n",
       "      <td>0</td>\n",
       "      <td>0</td>\n",
       "      <td>0</td>\n",
       "      <td>1</td>\n",
       "      <td>0</td>\n",
       "      <td>0</td>\n",
       "      <td>0</td>\n",
       "      <td>0</td>\n",
       "      <td>0</td>\n",
       "      <td>No</td>\n",
       "    </tr>\n",
       "    <tr>\n",
       "      <th>1</th>\n",
       "      <td>37</td>\n",
       "      <td>1</td>\n",
       "      <td>2</td>\n",
       "      <td>2</td>\n",
       "      <td>8</td>\n",
       "      <td>1</td>\n",
       "      <td>4</td>\n",
       "      <td>1</td>\n",
       "      <td>4</td>\n",
       "      <td>6</td>\n",
       "      <td>...</td>\n",
       "      <td>0</td>\n",
       "      <td>0</td>\n",
       "      <td>0</td>\n",
       "      <td>1</td>\n",
       "      <td>0</td>\n",
       "      <td>0</td>\n",
       "      <td>0</td>\n",
       "      <td>0</td>\n",
       "      <td>0</td>\n",
       "      <td>No</td>\n",
       "    </tr>\n",
       "    <tr>\n",
       "      <th>2</th>\n",
       "      <td>37</td>\n",
       "      <td>1</td>\n",
       "      <td>2</td>\n",
       "      <td>2</td>\n",
       "      <td>8</td>\n",
       "      <td>0</td>\n",
       "      <td>4</td>\n",
       "      <td>2</td>\n",
       "      <td>4</td>\n",
       "      <td>3</td>\n",
       "      <td>...</td>\n",
       "      <td>0</td>\n",
       "      <td>0</td>\n",
       "      <td>0</td>\n",
       "      <td>1</td>\n",
       "      <td>0</td>\n",
       "      <td>0</td>\n",
       "      <td>0</td>\n",
       "      <td>0</td>\n",
       "      <td>0</td>\n",
       "      <td>No</td>\n",
       "    </tr>\n",
       "    <tr>\n",
       "      <th>3</th>\n",
       "      <td>9</td>\n",
       "      <td>1</td>\n",
       "      <td>3</td>\n",
       "      <td>3</td>\n",
       "      <td>3</td>\n",
       "      <td>2</td>\n",
       "      <td>3</td>\n",
       "      <td>2</td>\n",
       "      <td>4</td>\n",
       "      <td>5</td>\n",
       "      <td>...</td>\n",
       "      <td>0</td>\n",
       "      <td>0</td>\n",
       "      <td>0</td>\n",
       "      <td>1</td>\n",
       "      <td>0</td>\n",
       "      <td>0</td>\n",
       "      <td>0</td>\n",
       "      <td>0</td>\n",
       "      <td>0</td>\n",
       "      <td>No</td>\n",
       "    </tr>\n",
       "    <tr>\n",
       "      <th>4</th>\n",
       "      <td>40</td>\n",
       "      <td>1</td>\n",
       "      <td>4</td>\n",
       "      <td>2</td>\n",
       "      <td>10</td>\n",
       "      <td>1</td>\n",
       "      <td>4</td>\n",
       "      <td>1</td>\n",
       "      <td>4</td>\n",
       "      <td>7</td>\n",
       "      <td>...</td>\n",
       "      <td>0</td>\n",
       "      <td>0</td>\n",
       "      <td>0</td>\n",
       "      <td>1</td>\n",
       "      <td>0</td>\n",
       "      <td>0</td>\n",
       "      <td>0</td>\n",
       "      <td>0</td>\n",
       "      <td>0</td>\n",
       "      <td>No</td>\n",
       "    </tr>\n",
       "  </tbody>\n",
       "</table>\n",
       "<p>5 rows × 86 columns</p>\n",
       "</div>"
      ],
      "text/plain": [
       "   MOSTYPE  MAANTHUI  MGEMOMV  MGEMLEEF  MOSHOOFD  MGODRK  MGODPR  MGODOV  \\\n",
       "0       33         1        3         2         8       0       5       1   \n",
       "1       37         1        2         2         8       1       4       1   \n",
       "2       37         1        2         2         8       0       4       2   \n",
       "3        9         1        3         3         3       2       3       2   \n",
       "4       40         1        4         2        10       1       4       1   \n",
       "\n",
       "   MGODGE  MRELGE  ...  APERSONG  AGEZONG  AWAOREG  ABRAND  AZEILPL  APLEZIER  \\\n",
       "0       3       7  ...         0        0        0       1        0         0   \n",
       "1       4       6  ...         0        0        0       1        0         0   \n",
       "2       4       3  ...         0        0        0       1        0         0   \n",
       "3       4       5  ...         0        0        0       1        0         0   \n",
       "4       4       7  ...         0        0        0       1        0         0   \n",
       "\n",
       "   AFIETS  AINBOED  ABYSTAND  Purchase  \n",
       "0       0        0         0        No  \n",
       "1       0        0         0        No  \n",
       "2       0        0         0        No  \n",
       "3       0        0         0        No  \n",
       "4       0        0         0        No  \n",
       "\n",
       "[5 rows x 86 columns]"
      ]
     },
     "execution_count": 3,
     "metadata": {},
     "output_type": "execute_result"
    }
   ],
   "source": [
    "caravan = pd.read_csv(\"Caravan.csv\")\n",
    "caravan.head()"
   ]
  },
  {
   "cell_type": "markdown",
   "id": "508530e2",
   "metadata": {},
   "source": [
    "(a) Evaluate the variances of the first and the second variables."
   ]
  },
  {
   "cell_type": "code",
   "execution_count": 4,
   "id": "9f567432",
   "metadata": {},
   "outputs": [
    {
     "data": {
      "text/html": [
       "<div>\n",
       "<style scoped>\n",
       "    .dataframe tbody tr th:only-of-type {\n",
       "        vertical-align: middle;\n",
       "    }\n",
       "\n",
       "    .dataframe tbody tr th {\n",
       "        vertical-align: top;\n",
       "    }\n",
       "\n",
       "    .dataframe thead th {\n",
       "        text-align: right;\n",
       "    }\n",
       "</style>\n",
       "<table border=\"1\" class=\"dataframe\">\n",
       "  <thead>\n",
       "    <tr style=\"text-align: right;\">\n",
       "      <th></th>\n",
       "      <th>MOSTYPE</th>\n",
       "      <th>MAANTHUI</th>\n",
       "    </tr>\n",
       "  </thead>\n",
       "  <tbody>\n",
       "    <tr>\n",
       "      <th>0</th>\n",
       "      <td>33</td>\n",
       "      <td>1</td>\n",
       "    </tr>\n",
       "    <tr>\n",
       "      <th>1</th>\n",
       "      <td>37</td>\n",
       "      <td>1</td>\n",
       "    </tr>\n",
       "    <tr>\n",
       "      <th>2</th>\n",
       "      <td>37</td>\n",
       "      <td>1</td>\n",
       "    </tr>\n",
       "    <tr>\n",
       "      <th>3</th>\n",
       "      <td>9</td>\n",
       "      <td>1</td>\n",
       "    </tr>\n",
       "    <tr>\n",
       "      <th>4</th>\n",
       "      <td>40</td>\n",
       "      <td>1</td>\n",
       "    </tr>\n",
       "  </tbody>\n",
       "</table>\n",
       "</div>"
      ],
      "text/plain": [
       "   MOSTYPE  MAANTHUI\n",
       "0       33         1\n",
       "1       37         1\n",
       "2       37         1\n",
       "3        9         1\n",
       "4       40         1"
      ]
     },
     "execution_count": 4,
     "metadata": {},
     "output_type": "execute_result"
    }
   ],
   "source": [
    "questionA = caravan[['MOSTYPE', 'MAANTHUI']] # Select needed variables.\n",
    "questionA.head()"
   ]
  },
  {
   "cell_type": "code",
   "execution_count": 5,
   "id": "e9f3cdc4",
   "metadata": {},
   "outputs": [
    {
     "data": {
      "text/plain": [
       "MOSTYPE     165.009500\n",
       "MAANTHUI      0.164679\n",
       "dtype: float64"
      ]
     },
     "execution_count": 5,
     "metadata": {},
     "output_type": "execute_result"
    }
   ],
   "source": [
    "np.var(questionA) # Answer to Question 3 (a) variances"
   ]
  },
  {
   "cell_type": "code",
   "execution_count": 6,
   "id": "f201d9c7",
   "metadata": {},
   "outputs": [
    {
     "name": "stderr",
     "output_type": "stream",
     "text": [
      "C:\\Users\\ymlxl\\.conda\\envs\\newenvt\\lib\\site-packages\\numpy\\core\\fromnumeric.py:3438: FutureWarning: In a future version, DataFrame.mean(axis=None) will return a scalar mean over the entire DataFrame. To retain the old behavior, use 'frame.mean(axis=0)' or just 'frame.mean()'\n",
      "  return mean(axis=axis, dtype=dtype, out=out, **kwargs)\n"
     ]
    },
    {
     "data": {
      "text/plain": [
       "MOSTYPE     24.253349\n",
       "MAANTHUI     1.110615\n",
       "dtype: float64"
      ]
     },
     "execution_count": 6,
     "metadata": {},
     "output_type": "execute_result"
    }
   ],
   "source": [
    "np.mean(questionA)"
   ]
  },
  {
   "cell_type": "markdown",
   "id": "ebe08520",
   "metadata": {},
   "source": [
    "From the variables we could see that, the variances between different variables are quite different from each other. As we will use euclidean distance for KNN classification, those variables with larger variance will outweigh those variables with small variance. Thus, in order to reduce bias and enhance accuracy, we need to scale all these variables before training. "
   ]
  },
  {
   "cell_type": "markdown",
   "id": "5319070a",
   "metadata": {},
   "source": [
    "(b) Scale the training data and use the same sample mean and standard deviation (for each variable) to scale the test data. "
   ]
  },
  {
   "cell_type": "code",
   "execution_count": 7,
   "id": "6fde8604",
   "metadata": {},
   "outputs": [
    {
     "data": {
      "text/html": [
       "<div>\n",
       "<style scoped>\n",
       "    .dataframe tbody tr th:only-of-type {\n",
       "        vertical-align: middle;\n",
       "    }\n",
       "\n",
       "    .dataframe tbody tr th {\n",
       "        vertical-align: top;\n",
       "    }\n",
       "\n",
       "    .dataframe thead th {\n",
       "        text-align: right;\n",
       "    }\n",
       "</style>\n",
       "<table border=\"1\" class=\"dataframe\">\n",
       "  <thead>\n",
       "    <tr style=\"text-align: right;\">\n",
       "      <th></th>\n",
       "      <th>Purchase</th>\n",
       "    </tr>\n",
       "  </thead>\n",
       "  <tbody>\n",
       "    <tr>\n",
       "      <th>0</th>\n",
       "      <td>No</td>\n",
       "    </tr>\n",
       "    <tr>\n",
       "      <th>1</th>\n",
       "      <td>No</td>\n",
       "    </tr>\n",
       "    <tr>\n",
       "      <th>2</th>\n",
       "      <td>No</td>\n",
       "    </tr>\n",
       "    <tr>\n",
       "      <th>3</th>\n",
       "      <td>No</td>\n",
       "    </tr>\n",
       "    <tr>\n",
       "      <th>4</th>\n",
       "      <td>No</td>\n",
       "    </tr>\n",
       "    <tr>\n",
       "      <th>...</th>\n",
       "      <td>...</td>\n",
       "    </tr>\n",
       "    <tr>\n",
       "      <th>995</th>\n",
       "      <td>No</td>\n",
       "    </tr>\n",
       "    <tr>\n",
       "      <th>996</th>\n",
       "      <td>No</td>\n",
       "    </tr>\n",
       "    <tr>\n",
       "      <th>997</th>\n",
       "      <td>No</td>\n",
       "    </tr>\n",
       "    <tr>\n",
       "      <th>998</th>\n",
       "      <td>No</td>\n",
       "    </tr>\n",
       "    <tr>\n",
       "      <th>999</th>\n",
       "      <td>No</td>\n",
       "    </tr>\n",
       "  </tbody>\n",
       "</table>\n",
       "<p>1000 rows × 1 columns</p>\n",
       "</div>"
      ],
      "text/plain": [
       "    Purchase\n",
       "0         No\n",
       "1         No\n",
       "2         No\n",
       "3         No\n",
       "4         No\n",
       "..       ...\n",
       "995       No\n",
       "996       No\n",
       "997       No\n",
       "998       No\n",
       "999       No\n",
       "\n",
       "[1000 rows x 1 columns]"
      ]
     },
     "execution_count": 7,
     "metadata": {},
     "output_type": "execute_result"
    }
   ],
   "source": [
    "testXCaravan = caravan.iloc[:1000,0:85] # Split and get the test data set.\n",
    "testYCaravan = caravan.iloc[:1000,85:86]\n",
    "testYCaravan"
   ]
  },
  {
   "cell_type": "code",
   "execution_count": 8,
   "id": "497c3607",
   "metadata": {},
   "outputs": [],
   "source": [
    "trainXCaravan = caravan.iloc[1000:5822,0:85] # Split and get the train data set.\n",
    "trainYCaravan = caravan.iloc[1000:5822,85:86]\n",
    "trainXCaravan = trainXCaravan.reset_index(drop = True)\n",
    "trainYCaravan = trainYCaravan.reset_index(drop = True)"
   ]
  },
  {
   "cell_type": "code",
   "execution_count": 9,
   "id": "24186cf5",
   "metadata": {},
   "outputs": [
    {
     "data": {
      "text/html": [
       "<div>\n",
       "<style scoped>\n",
       "    .dataframe tbody tr th:only-of-type {\n",
       "        vertical-align: middle;\n",
       "    }\n",
       "\n",
       "    .dataframe tbody tr th {\n",
       "        vertical-align: top;\n",
       "    }\n",
       "\n",
       "    .dataframe thead th {\n",
       "        text-align: right;\n",
       "    }\n",
       "</style>\n",
       "<table border=\"1\" class=\"dataframe\">\n",
       "  <thead>\n",
       "    <tr style=\"text-align: right;\">\n",
       "      <th></th>\n",
       "      <th>MOSTYPE</th>\n",
       "      <th>MAANTHUI</th>\n",
       "      <th>MGEMOMV</th>\n",
       "      <th>MGEMLEEF</th>\n",
       "      <th>MOSHOOFD</th>\n",
       "      <th>MGODRK</th>\n",
       "      <th>MGODPR</th>\n",
       "      <th>MGODOV</th>\n",
       "      <th>MGODGE</th>\n",
       "      <th>MRELGE</th>\n",
       "      <th>...</th>\n",
       "      <th>ALEVEN</th>\n",
       "      <th>APERSONG</th>\n",
       "      <th>AGEZONG</th>\n",
       "      <th>AWAOREG</th>\n",
       "      <th>ABRAND</th>\n",
       "      <th>AZEILPL</th>\n",
       "      <th>APLEZIER</th>\n",
       "      <th>AFIETS</th>\n",
       "      <th>AINBOED</th>\n",
       "      <th>ABYSTAND</th>\n",
       "    </tr>\n",
       "  </thead>\n",
       "  <tbody>\n",
       "    <tr>\n",
       "      <th>count</th>\n",
       "      <td>4822.000000</td>\n",
       "      <td>4822.000000</td>\n",
       "      <td>4822.000000</td>\n",
       "      <td>4822.000000</td>\n",
       "      <td>4822.000000</td>\n",
       "      <td>4822.000000</td>\n",
       "      <td>4822.000000</td>\n",
       "      <td>4822.000000</td>\n",
       "      <td>4822.000000</td>\n",
       "      <td>4822.000000</td>\n",
       "      <td>...</td>\n",
       "      <td>4822.000000</td>\n",
       "      <td>4822.000000</td>\n",
       "      <td>4822.000000</td>\n",
       "      <td>4822.000000</td>\n",
       "      <td>4822.000000</td>\n",
       "      <td>4822.000000</td>\n",
       "      <td>4822.000000</td>\n",
       "      <td>4822.000000</td>\n",
       "      <td>4822.000000</td>\n",
       "      <td>4822.000000</td>\n",
       "    </tr>\n",
       "    <tr>\n",
       "      <th>mean</th>\n",
       "      <td>24.226877</td>\n",
       "      <td>1.110742</td>\n",
       "      <td>2.679179</td>\n",
       "      <td>2.994608</td>\n",
       "      <td>5.768146</td>\n",
       "      <td>0.698051</td>\n",
       "      <td>4.616964</td>\n",
       "      <td>1.077146</td>\n",
       "      <td>3.261510</td>\n",
       "      <td>6.178349</td>\n",
       "      <td>...</td>\n",
       "      <td>0.077561</td>\n",
       "      <td>0.004562</td>\n",
       "      <td>0.006014</td>\n",
       "      <td>0.004562</td>\n",
       "      <td>0.563459</td>\n",
       "      <td>0.000415</td>\n",
       "      <td>0.005392</td>\n",
       "      <td>0.033803</td>\n",
       "      <td>0.008088</td>\n",
       "      <td>0.013687</td>\n",
       "    </tr>\n",
       "    <tr>\n",
       "      <th>std</th>\n",
       "      <td>12.816577</td>\n",
       "      <td>0.401424</td>\n",
       "      <td>0.790512</td>\n",
       "      <td>0.817241</td>\n",
       "      <td>2.851681</td>\n",
       "      <td>0.994526</td>\n",
       "      <td>1.709420</td>\n",
       "      <td>1.016693</td>\n",
       "      <td>1.590213</td>\n",
       "      <td>1.904733</td>\n",
       "      <td>...</td>\n",
       "      <td>0.367468</td>\n",
       "      <td>0.067398</td>\n",
       "      <td>0.077325</td>\n",
       "      <td>0.076073</td>\n",
       "      <td>0.561520</td>\n",
       "      <td>0.020364</td>\n",
       "      <td>0.076019</td>\n",
       "      <td>0.219128</td>\n",
       "      <td>0.091864</td>\n",
       "      <td>0.116201</td>\n",
       "    </tr>\n",
       "    <tr>\n",
       "      <th>min</th>\n",
       "      <td>1.000000</td>\n",
       "      <td>1.000000</td>\n",
       "      <td>1.000000</td>\n",
       "      <td>1.000000</td>\n",
       "      <td>1.000000</td>\n",
       "      <td>0.000000</td>\n",
       "      <td>0.000000</td>\n",
       "      <td>0.000000</td>\n",
       "      <td>0.000000</td>\n",
       "      <td>0.000000</td>\n",
       "      <td>...</td>\n",
       "      <td>0.000000</td>\n",
       "      <td>0.000000</td>\n",
       "      <td>0.000000</td>\n",
       "      <td>0.000000</td>\n",
       "      <td>0.000000</td>\n",
       "      <td>0.000000</td>\n",
       "      <td>0.000000</td>\n",
       "      <td>0.000000</td>\n",
       "      <td>0.000000</td>\n",
       "      <td>0.000000</td>\n",
       "    </tr>\n",
       "    <tr>\n",
       "      <th>25%</th>\n",
       "      <td>10.000000</td>\n",
       "      <td>1.000000</td>\n",
       "      <td>2.000000</td>\n",
       "      <td>2.000000</td>\n",
       "      <td>3.000000</td>\n",
       "      <td>0.000000</td>\n",
       "      <td>4.000000</td>\n",
       "      <td>0.000000</td>\n",
       "      <td>2.000000</td>\n",
       "      <td>5.000000</td>\n",
       "      <td>...</td>\n",
       "      <td>0.000000</td>\n",
       "      <td>0.000000</td>\n",
       "      <td>0.000000</td>\n",
       "      <td>0.000000</td>\n",
       "      <td>0.000000</td>\n",
       "      <td>0.000000</td>\n",
       "      <td>0.000000</td>\n",
       "      <td>0.000000</td>\n",
       "      <td>0.000000</td>\n",
       "      <td>0.000000</td>\n",
       "    </tr>\n",
       "    <tr>\n",
       "      <th>50%</th>\n",
       "      <td>30.000000</td>\n",
       "      <td>1.000000</td>\n",
       "      <td>3.000000</td>\n",
       "      <td>3.000000</td>\n",
       "      <td>7.000000</td>\n",
       "      <td>0.000000</td>\n",
       "      <td>5.000000</td>\n",
       "      <td>1.000000</td>\n",
       "      <td>3.000000</td>\n",
       "      <td>6.000000</td>\n",
       "      <td>...</td>\n",
       "      <td>0.000000</td>\n",
       "      <td>0.000000</td>\n",
       "      <td>0.000000</td>\n",
       "      <td>0.000000</td>\n",
       "      <td>1.000000</td>\n",
       "      <td>0.000000</td>\n",
       "      <td>0.000000</td>\n",
       "      <td>0.000000</td>\n",
       "      <td>0.000000</td>\n",
       "      <td>0.000000</td>\n",
       "    </tr>\n",
       "    <tr>\n",
       "      <th>75%</th>\n",
       "      <td>35.000000</td>\n",
       "      <td>1.000000</td>\n",
       "      <td>3.000000</td>\n",
       "      <td>3.000000</td>\n",
       "      <td>8.000000</td>\n",
       "      <td>1.000000</td>\n",
       "      <td>6.000000</td>\n",
       "      <td>2.000000</td>\n",
       "      <td>4.000000</td>\n",
       "      <td>7.000000</td>\n",
       "      <td>...</td>\n",
       "      <td>0.000000</td>\n",
       "      <td>0.000000</td>\n",
       "      <td>0.000000</td>\n",
       "      <td>0.000000</td>\n",
       "      <td>1.000000</td>\n",
       "      <td>0.000000</td>\n",
       "      <td>0.000000</td>\n",
       "      <td>0.000000</td>\n",
       "      <td>0.000000</td>\n",
       "      <td>0.000000</td>\n",
       "    </tr>\n",
       "    <tr>\n",
       "      <th>max</th>\n",
       "      <td>41.000000</td>\n",
       "      <td>8.000000</td>\n",
       "      <td>5.000000</td>\n",
       "      <td>6.000000</td>\n",
       "      <td>10.000000</td>\n",
       "      <td>9.000000</td>\n",
       "      <td>9.000000</td>\n",
       "      <td>5.000000</td>\n",
       "      <td>9.000000</td>\n",
       "      <td>9.000000</td>\n",
       "      <td>...</td>\n",
       "      <td>4.000000</td>\n",
       "      <td>1.000000</td>\n",
       "      <td>1.000000</td>\n",
       "      <td>2.000000</td>\n",
       "      <td>7.000000</td>\n",
       "      <td>1.000000</td>\n",
       "      <td>2.000000</td>\n",
       "      <td>3.000000</td>\n",
       "      <td>2.000000</td>\n",
       "      <td>1.000000</td>\n",
       "    </tr>\n",
       "  </tbody>\n",
       "</table>\n",
       "<p>8 rows × 85 columns</p>\n",
       "</div>"
      ],
      "text/plain": [
       "           MOSTYPE     MAANTHUI      MGEMOMV     MGEMLEEF     MOSHOOFD  \\\n",
       "count  4822.000000  4822.000000  4822.000000  4822.000000  4822.000000   \n",
       "mean     24.226877     1.110742     2.679179     2.994608     5.768146   \n",
       "std      12.816577     0.401424     0.790512     0.817241     2.851681   \n",
       "min       1.000000     1.000000     1.000000     1.000000     1.000000   \n",
       "25%      10.000000     1.000000     2.000000     2.000000     3.000000   \n",
       "50%      30.000000     1.000000     3.000000     3.000000     7.000000   \n",
       "75%      35.000000     1.000000     3.000000     3.000000     8.000000   \n",
       "max      41.000000     8.000000     5.000000     6.000000    10.000000   \n",
       "\n",
       "            MGODRK       MGODPR       MGODOV       MGODGE       MRELGE  ...  \\\n",
       "count  4822.000000  4822.000000  4822.000000  4822.000000  4822.000000  ...   \n",
       "mean      0.698051     4.616964     1.077146     3.261510     6.178349  ...   \n",
       "std       0.994526     1.709420     1.016693     1.590213     1.904733  ...   \n",
       "min       0.000000     0.000000     0.000000     0.000000     0.000000  ...   \n",
       "25%       0.000000     4.000000     0.000000     2.000000     5.000000  ...   \n",
       "50%       0.000000     5.000000     1.000000     3.000000     6.000000  ...   \n",
       "75%       1.000000     6.000000     2.000000     4.000000     7.000000  ...   \n",
       "max       9.000000     9.000000     5.000000     9.000000     9.000000  ...   \n",
       "\n",
       "            ALEVEN     APERSONG      AGEZONG      AWAOREG       ABRAND  \\\n",
       "count  4822.000000  4822.000000  4822.000000  4822.000000  4822.000000   \n",
       "mean      0.077561     0.004562     0.006014     0.004562     0.563459   \n",
       "std       0.367468     0.067398     0.077325     0.076073     0.561520   \n",
       "min       0.000000     0.000000     0.000000     0.000000     0.000000   \n",
       "25%       0.000000     0.000000     0.000000     0.000000     0.000000   \n",
       "50%       0.000000     0.000000     0.000000     0.000000     1.000000   \n",
       "75%       0.000000     0.000000     0.000000     0.000000     1.000000   \n",
       "max       4.000000     1.000000     1.000000     2.000000     7.000000   \n",
       "\n",
       "           AZEILPL     APLEZIER       AFIETS      AINBOED     ABYSTAND  \n",
       "count  4822.000000  4822.000000  4822.000000  4822.000000  4822.000000  \n",
       "mean      0.000415     0.005392     0.033803     0.008088     0.013687  \n",
       "std       0.020364     0.076019     0.219128     0.091864     0.116201  \n",
       "min       0.000000     0.000000     0.000000     0.000000     0.000000  \n",
       "25%       0.000000     0.000000     0.000000     0.000000     0.000000  \n",
       "50%       0.000000     0.000000     0.000000     0.000000     0.000000  \n",
       "75%       0.000000     0.000000     0.000000     0.000000     0.000000  \n",
       "max       1.000000     2.000000     3.000000     2.000000     1.000000  \n",
       "\n",
       "[8 rows x 85 columns]"
      ]
     },
     "execution_count": 9,
     "metadata": {},
     "output_type": "execute_result"
    }
   ],
   "source": [
    "trainXCaravan.describe(include = \"all\")"
   ]
  },
  {
   "cell_type": "code",
   "execution_count": 10,
   "id": "4ca4afa3",
   "metadata": {},
   "outputs": [
    {
     "data": {
      "text/plain": [
       "MOSTYPE     24.226877\n",
       "MAANTHUI     1.110742\n",
       "MGEMOMV      2.679179\n",
       "MGEMLEEF     2.994608\n",
       "MOSHOOFD     5.768146\n",
       "              ...    \n",
       "AZEILPL      0.000415\n",
       "APLEZIER     0.005392\n",
       "AFIETS       0.033803\n",
       "AINBOED      0.008088\n",
       "ABYSTAND     0.013687\n",
       "Length: 85, dtype: float64"
      ]
     },
     "execution_count": 10,
     "metadata": {},
     "output_type": "execute_result"
    }
   ],
   "source": [
    "mean = trainXCaravan.mean() # Get the mean value of train set.\n",
    "mean"
   ]
  },
  {
   "cell_type": "code",
   "execution_count": 11,
   "id": "7bf62eac",
   "metadata": {},
   "outputs": [
    {
     "data": {
      "text/plain": [
       "MOSTYPE     12.816577\n",
       "MAANTHUI     0.401424\n",
       "MGEMOMV      0.790512\n",
       "MGEMLEEF     0.817241\n",
       "MOSHOOFD     2.851681\n",
       "              ...    \n",
       "AZEILPL      0.020364\n",
       "APLEZIER     0.076019\n",
       "AFIETS       0.219128\n",
       "AINBOED      0.091864\n",
       "ABYSTAND     0.116201\n",
       "Length: 85, dtype: float64"
      ]
     },
     "execution_count": 11,
     "metadata": {},
     "output_type": "execute_result"
    }
   ],
   "source": [
    "std = trainXCaravan.std() # Get the standard deviation of train set.\n",
    "std"
   ]
  },
  {
   "cell_type": "code",
   "execution_count": 12,
   "id": "60bcd9d3",
   "metadata": {},
   "outputs": [
    {
     "data": {
      "text/html": [
       "<div>\n",
       "<style scoped>\n",
       "    .dataframe tbody tr th:only-of-type {\n",
       "        vertical-align: middle;\n",
       "    }\n",
       "\n",
       "    .dataframe tbody tr th {\n",
       "        vertical-align: top;\n",
       "    }\n",
       "\n",
       "    .dataframe thead th {\n",
       "        text-align: right;\n",
       "    }\n",
       "</style>\n",
       "<table border=\"1\" class=\"dataframe\">\n",
       "  <thead>\n",
       "    <tr style=\"text-align: right;\">\n",
       "      <th></th>\n",
       "      <th>MOSTYPE</th>\n",
       "      <th>MAANTHUI</th>\n",
       "      <th>MGEMOMV</th>\n",
       "      <th>MGEMLEEF</th>\n",
       "      <th>MOSHOOFD</th>\n",
       "      <th>MGODRK</th>\n",
       "      <th>MGODPR</th>\n",
       "      <th>MGODOV</th>\n",
       "      <th>MGODGE</th>\n",
       "      <th>MRELGE</th>\n",
       "      <th>...</th>\n",
       "      <th>ALEVEN</th>\n",
       "      <th>APERSONG</th>\n",
       "      <th>AGEZONG</th>\n",
       "      <th>AWAOREG</th>\n",
       "      <th>ABRAND</th>\n",
       "      <th>AZEILPL</th>\n",
       "      <th>APLEZIER</th>\n",
       "      <th>AFIETS</th>\n",
       "      <th>AINBOED</th>\n",
       "      <th>ABYSTAND</th>\n",
       "    </tr>\n",
       "  </thead>\n",
       "  <tbody>\n",
       "    <tr>\n",
       "      <th>0</th>\n",
       "      <td>1.230681</td>\n",
       "      <td>-0.275874</td>\n",
       "      <td>2.935845</td>\n",
       "      <td>0.006598</td>\n",
       "      <td>1.483986</td>\n",
       "      <td>0.303611</td>\n",
       "      <td>-2.115901</td>\n",
       "      <td>3.858443</td>\n",
       "      <td>-0.164450</td>\n",
       "      <td>1.481389</td>\n",
       "      <td>...</td>\n",
       "      <td>-0.211069</td>\n",
       "      <td>-0.067693</td>\n",
       "      <td>-0.077777</td>\n",
       "      <td>-0.059974</td>\n",
       "      <td>0.777428</td>\n",
       "      <td>-0.020368</td>\n",
       "      <td>-0.070929</td>\n",
       "      <td>-0.154263</td>\n",
       "      <td>-0.088042</td>\n",
       "      <td>-0.117789</td>\n",
       "    </tr>\n",
       "    <tr>\n",
       "      <th>1</th>\n",
       "      <td>0.138346</td>\n",
       "      <td>-0.275874</td>\n",
       "      <td>-2.124165</td>\n",
       "      <td>2.453858</td>\n",
       "      <td>0.081304</td>\n",
       "      <td>-0.701893</td>\n",
       "      <td>-0.360920</td>\n",
       "      <td>0.907701</td>\n",
       "      <td>0.464397</td>\n",
       "      <td>-1.668659</td>\n",
       "      <td>...</td>\n",
       "      <td>-0.211069</td>\n",
       "      <td>-0.067693</td>\n",
       "      <td>-0.077777</td>\n",
       "      <td>-0.059974</td>\n",
       "      <td>0.777428</td>\n",
       "      <td>-0.020368</td>\n",
       "      <td>-0.070929</td>\n",
       "      <td>-0.154263</td>\n",
       "      <td>-0.088042</td>\n",
       "      <td>-0.117789</td>\n",
       "    </tr>\n",
       "    <tr>\n",
       "      <th>2</th>\n",
       "      <td>-1.110037</td>\n",
       "      <td>-0.275874</td>\n",
       "      <td>1.670842</td>\n",
       "      <td>-1.217032</td>\n",
       "      <td>-0.970707</td>\n",
       "      <td>1.309116</td>\n",
       "      <td>0.809067</td>\n",
       "      <td>-1.059460</td>\n",
       "      <td>-0.164450</td>\n",
       "      <td>-0.093635</td>\n",
       "      <td>...</td>\n",
       "      <td>-0.211069</td>\n",
       "      <td>-0.067693</td>\n",
       "      <td>-0.077777</td>\n",
       "      <td>-0.059974</td>\n",
       "      <td>-1.003454</td>\n",
       "      <td>-0.020368</td>\n",
       "      <td>-0.070929</td>\n",
       "      <td>-0.154263</td>\n",
       "      <td>-0.088042</td>\n",
       "      <td>-0.117789</td>\n",
       "    </tr>\n",
       "    <tr>\n",
       "      <th>3</th>\n",
       "      <td>1.074634</td>\n",
       "      <td>-0.275874</td>\n",
       "      <td>-0.859163</td>\n",
       "      <td>-1.217032</td>\n",
       "      <td>1.133315</td>\n",
       "      <td>-0.701893</td>\n",
       "      <td>-0.360920</td>\n",
       "      <td>0.907701</td>\n",
       "      <td>0.464397</td>\n",
       "      <td>0.431373</td>\n",
       "      <td>...</td>\n",
       "      <td>-0.211069</td>\n",
       "      <td>-0.067693</td>\n",
       "      <td>-0.077777</td>\n",
       "      <td>-0.059974</td>\n",
       "      <td>-1.003454</td>\n",
       "      <td>-0.020368</td>\n",
       "      <td>-0.070929</td>\n",
       "      <td>-0.154263</td>\n",
       "      <td>-0.088042</td>\n",
       "      <td>-0.117789</td>\n",
       "    </tr>\n",
       "    <tr>\n",
       "      <th>4</th>\n",
       "      <td>1.152658</td>\n",
       "      <td>2.215255</td>\n",
       "      <td>0.405840</td>\n",
       "      <td>0.006598</td>\n",
       "      <td>1.133315</td>\n",
       "      <td>0.303611</td>\n",
       "      <td>0.224074</td>\n",
       "      <td>-1.059460</td>\n",
       "      <td>-0.164450</td>\n",
       "      <td>0.431373</td>\n",
       "      <td>...</td>\n",
       "      <td>-0.211069</td>\n",
       "      <td>-0.067693</td>\n",
       "      <td>-0.077777</td>\n",
       "      <td>-0.059974</td>\n",
       "      <td>-1.003454</td>\n",
       "      <td>-0.020368</td>\n",
       "      <td>-0.070929</td>\n",
       "      <td>-0.154263</td>\n",
       "      <td>-0.088042</td>\n",
       "      <td>-0.117789</td>\n",
       "    </tr>\n",
       "    <tr>\n",
       "      <th>...</th>\n",
       "      <td>...</td>\n",
       "      <td>...</td>\n",
       "      <td>...</td>\n",
       "      <td>...</td>\n",
       "      <td>...</td>\n",
       "      <td>...</td>\n",
       "      <td>...</td>\n",
       "      <td>...</td>\n",
       "      <td>...</td>\n",
       "      <td>...</td>\n",
       "      <td>...</td>\n",
       "      <td>...</td>\n",
       "      <td>...</td>\n",
       "      <td>...</td>\n",
       "      <td>...</td>\n",
       "      <td>...</td>\n",
       "      <td>...</td>\n",
       "      <td>...</td>\n",
       "      <td>...</td>\n",
       "      <td>...</td>\n",
       "      <td>...</td>\n",
       "    </tr>\n",
       "    <tr>\n",
       "      <th>4817</th>\n",
       "      <td>0.918586</td>\n",
       "      <td>-0.275874</td>\n",
       "      <td>-2.124165</td>\n",
       "      <td>-1.217032</td>\n",
       "      <td>0.782645</td>\n",
       "      <td>-0.701893</td>\n",
       "      <td>0.809067</td>\n",
       "      <td>-0.075880</td>\n",
       "      <td>-0.793296</td>\n",
       "      <td>-2.718675</td>\n",
       "      <td>...</td>\n",
       "      <td>5.231584</td>\n",
       "      <td>-0.067693</td>\n",
       "      <td>-0.077777</td>\n",
       "      <td>-0.059974</td>\n",
       "      <td>0.777428</td>\n",
       "      <td>-0.020368</td>\n",
       "      <td>-0.070929</td>\n",
       "      <td>-0.154263</td>\n",
       "      <td>-0.088042</td>\n",
       "      <td>-0.117789</td>\n",
       "    </tr>\n",
       "    <tr>\n",
       "      <th>4818</th>\n",
       "      <td>0.840562</td>\n",
       "      <td>-0.275874</td>\n",
       "      <td>1.670842</td>\n",
       "      <td>1.230228</td>\n",
       "      <td>0.782645</td>\n",
       "      <td>0.303611</td>\n",
       "      <td>-0.360920</td>\n",
       "      <td>-0.075880</td>\n",
       "      <td>0.464397</td>\n",
       "      <td>-0.093635</td>\n",
       "      <td>...</td>\n",
       "      <td>-0.211069</td>\n",
       "      <td>-0.067693</td>\n",
       "      <td>-0.077777</td>\n",
       "      <td>-0.059974</td>\n",
       "      <td>0.777428</td>\n",
       "      <td>-0.020368</td>\n",
       "      <td>-0.070929</td>\n",
       "      <td>-0.154263</td>\n",
       "      <td>-0.088042</td>\n",
       "      <td>-0.117789</td>\n",
       "    </tr>\n",
       "    <tr>\n",
       "      <th>4819</th>\n",
       "      <td>0.684514</td>\n",
       "      <td>-0.275874</td>\n",
       "      <td>0.405840</td>\n",
       "      <td>1.230228</td>\n",
       "      <td>0.782645</td>\n",
       "      <td>-0.701893</td>\n",
       "      <td>0.809067</td>\n",
       "      <td>-1.059460</td>\n",
       "      <td>-0.164450</td>\n",
       "      <td>-0.618643</td>\n",
       "      <td>...</td>\n",
       "      <td>-0.211069</td>\n",
       "      <td>-0.067693</td>\n",
       "      <td>-0.077777</td>\n",
       "      <td>-0.059974</td>\n",
       "      <td>0.777428</td>\n",
       "      <td>-0.020368</td>\n",
       "      <td>-0.070929</td>\n",
       "      <td>-0.154263</td>\n",
       "      <td>-0.088042</td>\n",
       "      <td>-0.117789</td>\n",
       "    </tr>\n",
       "    <tr>\n",
       "      <th>4820</th>\n",
       "      <td>0.762538</td>\n",
       "      <td>-0.275874</td>\n",
       "      <td>0.405840</td>\n",
       "      <td>-1.217032</td>\n",
       "      <td>0.782645</td>\n",
       "      <td>-0.701893</td>\n",
       "      <td>1.394061</td>\n",
       "      <td>-1.059460</td>\n",
       "      <td>-0.793296</td>\n",
       "      <td>0.431373</td>\n",
       "      <td>...</td>\n",
       "      <td>-0.211069</td>\n",
       "      <td>-0.067693</td>\n",
       "      <td>-0.077777</td>\n",
       "      <td>-0.059974</td>\n",
       "      <td>-1.003454</td>\n",
       "      <td>-0.020368</td>\n",
       "      <td>-0.070929</td>\n",
       "      <td>-0.154263</td>\n",
       "      <td>-0.088042</td>\n",
       "      <td>-0.117789</td>\n",
       "    </tr>\n",
       "    <tr>\n",
       "      <th>4821</th>\n",
       "      <td>0.684514</td>\n",
       "      <td>-0.275874</td>\n",
       "      <td>0.405840</td>\n",
       "      <td>0.006598</td>\n",
       "      <td>0.782645</td>\n",
       "      <td>-0.701893</td>\n",
       "      <td>0.809067</td>\n",
       "      <td>-0.075880</td>\n",
       "      <td>-0.793296</td>\n",
       "      <td>0.431373</td>\n",
       "      <td>...</td>\n",
       "      <td>-0.211069</td>\n",
       "      <td>-0.067693</td>\n",
       "      <td>-0.077777</td>\n",
       "      <td>-0.059974</td>\n",
       "      <td>-1.003454</td>\n",
       "      <td>-0.020368</td>\n",
       "      <td>-0.070929</td>\n",
       "      <td>-0.154263</td>\n",
       "      <td>-0.088042</td>\n",
       "      <td>-0.117789</td>\n",
       "    </tr>\n",
       "  </tbody>\n",
       "</table>\n",
       "<p>4822 rows × 85 columns</p>\n",
       "</div>"
      ],
      "text/plain": [
       "       MOSTYPE  MAANTHUI   MGEMOMV  MGEMLEEF  MOSHOOFD    MGODRK    MGODPR  \\\n",
       "0     1.230681 -0.275874  2.935845  0.006598  1.483986  0.303611 -2.115901   \n",
       "1     0.138346 -0.275874 -2.124165  2.453858  0.081304 -0.701893 -0.360920   \n",
       "2    -1.110037 -0.275874  1.670842 -1.217032 -0.970707  1.309116  0.809067   \n",
       "3     1.074634 -0.275874 -0.859163 -1.217032  1.133315 -0.701893 -0.360920   \n",
       "4     1.152658  2.215255  0.405840  0.006598  1.133315  0.303611  0.224074   \n",
       "...        ...       ...       ...       ...       ...       ...       ...   \n",
       "4817  0.918586 -0.275874 -2.124165 -1.217032  0.782645 -0.701893  0.809067   \n",
       "4818  0.840562 -0.275874  1.670842  1.230228  0.782645  0.303611 -0.360920   \n",
       "4819  0.684514 -0.275874  0.405840  1.230228  0.782645 -0.701893  0.809067   \n",
       "4820  0.762538 -0.275874  0.405840 -1.217032  0.782645 -0.701893  1.394061   \n",
       "4821  0.684514 -0.275874  0.405840  0.006598  0.782645 -0.701893  0.809067   \n",
       "\n",
       "        MGODOV    MGODGE    MRELGE  ...    ALEVEN  APERSONG   AGEZONG  \\\n",
       "0     3.858443 -0.164450  1.481389  ... -0.211069 -0.067693 -0.077777   \n",
       "1     0.907701  0.464397 -1.668659  ... -0.211069 -0.067693 -0.077777   \n",
       "2    -1.059460 -0.164450 -0.093635  ... -0.211069 -0.067693 -0.077777   \n",
       "3     0.907701  0.464397  0.431373  ... -0.211069 -0.067693 -0.077777   \n",
       "4    -1.059460 -0.164450  0.431373  ... -0.211069 -0.067693 -0.077777   \n",
       "...        ...       ...       ...  ...       ...       ...       ...   \n",
       "4817 -0.075880 -0.793296 -2.718675  ...  5.231584 -0.067693 -0.077777   \n",
       "4818 -0.075880  0.464397 -0.093635  ... -0.211069 -0.067693 -0.077777   \n",
       "4819 -1.059460 -0.164450 -0.618643  ... -0.211069 -0.067693 -0.077777   \n",
       "4820 -1.059460 -0.793296  0.431373  ... -0.211069 -0.067693 -0.077777   \n",
       "4821 -0.075880 -0.793296  0.431373  ... -0.211069 -0.067693 -0.077777   \n",
       "\n",
       "       AWAOREG    ABRAND   AZEILPL  APLEZIER    AFIETS   AINBOED  ABYSTAND  \n",
       "0    -0.059974  0.777428 -0.020368 -0.070929 -0.154263 -0.088042 -0.117789  \n",
       "1    -0.059974  0.777428 -0.020368 -0.070929 -0.154263 -0.088042 -0.117789  \n",
       "2    -0.059974 -1.003454 -0.020368 -0.070929 -0.154263 -0.088042 -0.117789  \n",
       "3    -0.059974 -1.003454 -0.020368 -0.070929 -0.154263 -0.088042 -0.117789  \n",
       "4    -0.059974 -1.003454 -0.020368 -0.070929 -0.154263 -0.088042 -0.117789  \n",
       "...        ...       ...       ...       ...       ...       ...       ...  \n",
       "4817 -0.059974  0.777428 -0.020368 -0.070929 -0.154263 -0.088042 -0.117789  \n",
       "4818 -0.059974  0.777428 -0.020368 -0.070929 -0.154263 -0.088042 -0.117789  \n",
       "4819 -0.059974  0.777428 -0.020368 -0.070929 -0.154263 -0.088042 -0.117789  \n",
       "4820 -0.059974 -1.003454 -0.020368 -0.070929 -0.154263 -0.088042 -0.117789  \n",
       "4821 -0.059974 -1.003454 -0.020368 -0.070929 -0.154263 -0.088042 -0.117789  \n",
       "\n",
       "[4822 rows x 85 columns]"
      ]
     },
     "execution_count": 12,
     "metadata": {},
     "output_type": "execute_result"
    }
   ],
   "source": [
    "trainXCaravan = (trainXCaravan-mean)/std # Scale train data set.\n",
    "trainXCaravan"
   ]
  },
  {
   "cell_type": "code",
   "execution_count": 13,
   "id": "4cbacfb9",
   "metadata": {},
   "outputs": [
    {
     "data": {
      "text/html": [
       "<div>\n",
       "<style scoped>\n",
       "    .dataframe tbody tr th:only-of-type {\n",
       "        vertical-align: middle;\n",
       "    }\n",
       "\n",
       "    .dataframe tbody tr th {\n",
       "        vertical-align: top;\n",
       "    }\n",
       "\n",
       "    .dataframe thead th {\n",
       "        text-align: right;\n",
       "    }\n",
       "</style>\n",
       "<table border=\"1\" class=\"dataframe\">\n",
       "  <thead>\n",
       "    <tr style=\"text-align: right;\">\n",
       "      <th></th>\n",
       "      <th>MOSTYPE</th>\n",
       "      <th>MAANTHUI</th>\n",
       "      <th>MGEMOMV</th>\n",
       "      <th>MGEMLEEF</th>\n",
       "      <th>MOSHOOFD</th>\n",
       "      <th>MGODRK</th>\n",
       "      <th>MGODPR</th>\n",
       "      <th>MGODOV</th>\n",
       "      <th>MGODGE</th>\n",
       "      <th>MRELGE</th>\n",
       "      <th>...</th>\n",
       "      <th>ALEVEN</th>\n",
       "      <th>APERSONG</th>\n",
       "      <th>AGEZONG</th>\n",
       "      <th>AWAOREG</th>\n",
       "      <th>ABRAND</th>\n",
       "      <th>AZEILPL</th>\n",
       "      <th>APLEZIER</th>\n",
       "      <th>AFIETS</th>\n",
       "      <th>AINBOED</th>\n",
       "      <th>ABYSTAND</th>\n",
       "    </tr>\n",
       "  </thead>\n",
       "  <tbody>\n",
       "    <tr>\n",
       "      <th>0</th>\n",
       "      <td>0.684514</td>\n",
       "      <td>-0.275874</td>\n",
       "      <td>0.405840</td>\n",
       "      <td>-1.217032</td>\n",
       "      <td>0.782645</td>\n",
       "      <td>-0.701893</td>\n",
       "      <td>0.224074</td>\n",
       "      <td>-0.075880</td>\n",
       "      <td>-0.164450</td>\n",
       "      <td>0.431373</td>\n",
       "      <td>...</td>\n",
       "      <td>-0.211069</td>\n",
       "      <td>-0.067693</td>\n",
       "      <td>-0.077777</td>\n",
       "      <td>-0.059974</td>\n",
       "      <td>0.777428</td>\n",
       "      <td>-0.020368</td>\n",
       "      <td>-0.070929</td>\n",
       "      <td>-0.154263</td>\n",
       "      <td>-0.088042</td>\n",
       "      <td>-0.117789</td>\n",
       "    </tr>\n",
       "    <tr>\n",
       "      <th>1</th>\n",
       "      <td>0.996610</td>\n",
       "      <td>-0.275874</td>\n",
       "      <td>-0.859163</td>\n",
       "      <td>-1.217032</td>\n",
       "      <td>0.782645</td>\n",
       "      <td>0.303611</td>\n",
       "      <td>-0.360920</td>\n",
       "      <td>-0.075880</td>\n",
       "      <td>0.464397</td>\n",
       "      <td>-0.093635</td>\n",
       "      <td>...</td>\n",
       "      <td>-0.211069</td>\n",
       "      <td>-0.067693</td>\n",
       "      <td>-0.077777</td>\n",
       "      <td>-0.059974</td>\n",
       "      <td>0.777428</td>\n",
       "      <td>-0.020368</td>\n",
       "      <td>-0.070929</td>\n",
       "      <td>-0.154263</td>\n",
       "      <td>-0.088042</td>\n",
       "      <td>-0.117789</td>\n",
       "    </tr>\n",
       "    <tr>\n",
       "      <th>2</th>\n",
       "      <td>0.996610</td>\n",
       "      <td>-0.275874</td>\n",
       "      <td>-0.859163</td>\n",
       "      <td>-1.217032</td>\n",
       "      <td>0.782645</td>\n",
       "      <td>-0.701893</td>\n",
       "      <td>-0.360920</td>\n",
       "      <td>0.907701</td>\n",
       "      <td>0.464397</td>\n",
       "      <td>-1.668659</td>\n",
       "      <td>...</td>\n",
       "      <td>-0.211069</td>\n",
       "      <td>-0.067693</td>\n",
       "      <td>-0.077777</td>\n",
       "      <td>-0.059974</td>\n",
       "      <td>0.777428</td>\n",
       "      <td>-0.020368</td>\n",
       "      <td>-0.070929</td>\n",
       "      <td>-0.154263</td>\n",
       "      <td>-0.088042</td>\n",
       "      <td>-0.117789</td>\n",
       "    </tr>\n",
       "    <tr>\n",
       "      <th>3</th>\n",
       "      <td>-1.188061</td>\n",
       "      <td>-0.275874</td>\n",
       "      <td>0.405840</td>\n",
       "      <td>0.006598</td>\n",
       "      <td>-0.970707</td>\n",
       "      <td>1.309116</td>\n",
       "      <td>-0.945914</td>\n",
       "      <td>0.907701</td>\n",
       "      <td>0.464397</td>\n",
       "      <td>-0.618643</td>\n",
       "      <td>...</td>\n",
       "      <td>-0.211069</td>\n",
       "      <td>-0.067693</td>\n",
       "      <td>-0.077777</td>\n",
       "      <td>-0.059974</td>\n",
       "      <td>0.777428</td>\n",
       "      <td>-0.020368</td>\n",
       "      <td>-0.070929</td>\n",
       "      <td>-0.154263</td>\n",
       "      <td>-0.088042</td>\n",
       "      <td>-0.117789</td>\n",
       "    </tr>\n",
       "    <tr>\n",
       "      <th>4</th>\n",
       "      <td>1.230681</td>\n",
       "      <td>-0.275874</td>\n",
       "      <td>1.670842</td>\n",
       "      <td>-1.217032</td>\n",
       "      <td>1.483986</td>\n",
       "      <td>0.303611</td>\n",
       "      <td>-0.360920</td>\n",
       "      <td>-0.075880</td>\n",
       "      <td>0.464397</td>\n",
       "      <td>0.431373</td>\n",
       "      <td>...</td>\n",
       "      <td>-0.211069</td>\n",
       "      <td>-0.067693</td>\n",
       "      <td>-0.077777</td>\n",
       "      <td>-0.059974</td>\n",
       "      <td>0.777428</td>\n",
       "      <td>-0.020368</td>\n",
       "      <td>-0.070929</td>\n",
       "      <td>-0.154263</td>\n",
       "      <td>-0.088042</td>\n",
       "      <td>-0.117789</td>\n",
       "    </tr>\n",
       "    <tr>\n",
       "      <th>...</th>\n",
       "      <td>...</td>\n",
       "      <td>...</td>\n",
       "      <td>...</td>\n",
       "      <td>...</td>\n",
       "      <td>...</td>\n",
       "      <td>...</td>\n",
       "      <td>...</td>\n",
       "      <td>...</td>\n",
       "      <td>...</td>\n",
       "      <td>...</td>\n",
       "      <td>...</td>\n",
       "      <td>...</td>\n",
       "      <td>...</td>\n",
       "      <td>...</td>\n",
       "      <td>...</td>\n",
       "      <td>...</td>\n",
       "      <td>...</td>\n",
       "      <td>...</td>\n",
       "      <td>...</td>\n",
       "      <td>...</td>\n",
       "      <td>...</td>\n",
       "    </tr>\n",
       "    <tr>\n",
       "      <th>995</th>\n",
       "      <td>0.684514</td>\n",
       "      <td>-0.275874</td>\n",
       "      <td>-0.859163</td>\n",
       "      <td>1.230228</td>\n",
       "      <td>0.782645</td>\n",
       "      <td>1.309116</td>\n",
       "      <td>0.224074</td>\n",
       "      <td>-1.059460</td>\n",
       "      <td>-0.164450</td>\n",
       "      <td>1.481389</td>\n",
       "      <td>...</td>\n",
       "      <td>-0.211069</td>\n",
       "      <td>-0.067693</td>\n",
       "      <td>-0.077777</td>\n",
       "      <td>-0.059974</td>\n",
       "      <td>-1.003454</td>\n",
       "      <td>-0.020368</td>\n",
       "      <td>-0.070929</td>\n",
       "      <td>-0.154263</td>\n",
       "      <td>-0.088042</td>\n",
       "      <td>-0.117789</td>\n",
       "    </tr>\n",
       "    <tr>\n",
       "      <th>996</th>\n",
       "      <td>-1.812253</td>\n",
       "      <td>-0.275874</td>\n",
       "      <td>-0.859163</td>\n",
       "      <td>1.230228</td>\n",
       "      <td>-1.672047</td>\n",
       "      <td>-0.701893</td>\n",
       "      <td>-1.530907</td>\n",
       "      <td>-1.059460</td>\n",
       "      <td>2.350937</td>\n",
       "      <td>-0.093635</td>\n",
       "      <td>...</td>\n",
       "      <td>-0.211069</td>\n",
       "      <td>-0.067693</td>\n",
       "      <td>-0.077777</td>\n",
       "      <td>-0.059974</td>\n",
       "      <td>0.777428</td>\n",
       "      <td>-0.020368</td>\n",
       "      <td>-0.070929</td>\n",
       "      <td>8.972828</td>\n",
       "      <td>-0.088042</td>\n",
       "      <td>-0.117789</td>\n",
       "    </tr>\n",
       "    <tr>\n",
       "      <th>997</th>\n",
       "      <td>0.684514</td>\n",
       "      <td>-0.275874</td>\n",
       "      <td>0.405840</td>\n",
       "      <td>0.006598</td>\n",
       "      <td>0.782645</td>\n",
       "      <td>0.303611</td>\n",
       "      <td>0.224074</td>\n",
       "      <td>-1.059460</td>\n",
       "      <td>-0.164450</td>\n",
       "      <td>0.431373</td>\n",
       "      <td>...</td>\n",
       "      <td>-0.211069</td>\n",
       "      <td>-0.067693</td>\n",
       "      <td>-0.077777</td>\n",
       "      <td>-0.059974</td>\n",
       "      <td>0.777428</td>\n",
       "      <td>-0.020368</td>\n",
       "      <td>-0.070929</td>\n",
       "      <td>-0.154263</td>\n",
       "      <td>-0.088042</td>\n",
       "      <td>-0.117789</td>\n",
       "    </tr>\n",
       "    <tr>\n",
       "      <th>998</th>\n",
       "      <td>-1.656205</td>\n",
       "      <td>-0.275874</td>\n",
       "      <td>-0.859163</td>\n",
       "      <td>1.230228</td>\n",
       "      <td>-1.672047</td>\n",
       "      <td>-0.701893</td>\n",
       "      <td>-0.360920</td>\n",
       "      <td>0.907701</td>\n",
       "      <td>0.464397</td>\n",
       "      <td>-0.618643</td>\n",
       "      <td>...</td>\n",
       "      <td>-0.211069</td>\n",
       "      <td>-0.067693</td>\n",
       "      <td>-0.077777</td>\n",
       "      <td>-0.059974</td>\n",
       "      <td>0.777428</td>\n",
       "      <td>-0.020368</td>\n",
       "      <td>-0.070929</td>\n",
       "      <td>-0.154263</td>\n",
       "      <td>-0.088042</td>\n",
       "      <td>-0.117789</td>\n",
       "    </tr>\n",
       "    <tr>\n",
       "      <th>999</th>\n",
       "      <td>0.684514</td>\n",
       "      <td>-0.275874</td>\n",
       "      <td>-0.859163</td>\n",
       "      <td>1.230228</td>\n",
       "      <td>0.782645</td>\n",
       "      <td>-0.701893</td>\n",
       "      <td>2.564048</td>\n",
       "      <td>-1.059460</td>\n",
       "      <td>-2.050989</td>\n",
       "      <td>1.481389</td>\n",
       "      <td>...</td>\n",
       "      <td>-0.211069</td>\n",
       "      <td>-0.067693</td>\n",
       "      <td>-0.077777</td>\n",
       "      <td>-0.059974</td>\n",
       "      <td>-1.003454</td>\n",
       "      <td>-0.020368</td>\n",
       "      <td>-0.070929</td>\n",
       "      <td>-0.154263</td>\n",
       "      <td>-0.088042</td>\n",
       "      <td>-0.117789</td>\n",
       "    </tr>\n",
       "  </tbody>\n",
       "</table>\n",
       "<p>1000 rows × 85 columns</p>\n",
       "</div>"
      ],
      "text/plain": [
       "      MOSTYPE  MAANTHUI   MGEMOMV  MGEMLEEF  MOSHOOFD    MGODRK    MGODPR  \\\n",
       "0    0.684514 -0.275874  0.405840 -1.217032  0.782645 -0.701893  0.224074   \n",
       "1    0.996610 -0.275874 -0.859163 -1.217032  0.782645  0.303611 -0.360920   \n",
       "2    0.996610 -0.275874 -0.859163 -1.217032  0.782645 -0.701893 -0.360920   \n",
       "3   -1.188061 -0.275874  0.405840  0.006598 -0.970707  1.309116 -0.945914   \n",
       "4    1.230681 -0.275874  1.670842 -1.217032  1.483986  0.303611 -0.360920   \n",
       "..        ...       ...       ...       ...       ...       ...       ...   \n",
       "995  0.684514 -0.275874 -0.859163  1.230228  0.782645  1.309116  0.224074   \n",
       "996 -1.812253 -0.275874 -0.859163  1.230228 -1.672047 -0.701893 -1.530907   \n",
       "997  0.684514 -0.275874  0.405840  0.006598  0.782645  0.303611  0.224074   \n",
       "998 -1.656205 -0.275874 -0.859163  1.230228 -1.672047 -0.701893 -0.360920   \n",
       "999  0.684514 -0.275874 -0.859163  1.230228  0.782645 -0.701893  2.564048   \n",
       "\n",
       "       MGODOV    MGODGE    MRELGE  ...    ALEVEN  APERSONG   AGEZONG  \\\n",
       "0   -0.075880 -0.164450  0.431373  ... -0.211069 -0.067693 -0.077777   \n",
       "1   -0.075880  0.464397 -0.093635  ... -0.211069 -0.067693 -0.077777   \n",
       "2    0.907701  0.464397 -1.668659  ... -0.211069 -0.067693 -0.077777   \n",
       "3    0.907701  0.464397 -0.618643  ... -0.211069 -0.067693 -0.077777   \n",
       "4   -0.075880  0.464397  0.431373  ... -0.211069 -0.067693 -0.077777   \n",
       "..        ...       ...       ...  ...       ...       ...       ...   \n",
       "995 -1.059460 -0.164450  1.481389  ... -0.211069 -0.067693 -0.077777   \n",
       "996 -1.059460  2.350937 -0.093635  ... -0.211069 -0.067693 -0.077777   \n",
       "997 -1.059460 -0.164450  0.431373  ... -0.211069 -0.067693 -0.077777   \n",
       "998  0.907701  0.464397 -0.618643  ... -0.211069 -0.067693 -0.077777   \n",
       "999 -1.059460 -2.050989  1.481389  ... -0.211069 -0.067693 -0.077777   \n",
       "\n",
       "      AWAOREG    ABRAND   AZEILPL  APLEZIER    AFIETS   AINBOED  ABYSTAND  \n",
       "0   -0.059974  0.777428 -0.020368 -0.070929 -0.154263 -0.088042 -0.117789  \n",
       "1   -0.059974  0.777428 -0.020368 -0.070929 -0.154263 -0.088042 -0.117789  \n",
       "2   -0.059974  0.777428 -0.020368 -0.070929 -0.154263 -0.088042 -0.117789  \n",
       "3   -0.059974  0.777428 -0.020368 -0.070929 -0.154263 -0.088042 -0.117789  \n",
       "4   -0.059974  0.777428 -0.020368 -0.070929 -0.154263 -0.088042 -0.117789  \n",
       "..        ...       ...       ...       ...       ...       ...       ...  \n",
       "995 -0.059974 -1.003454 -0.020368 -0.070929 -0.154263 -0.088042 -0.117789  \n",
       "996 -0.059974  0.777428 -0.020368 -0.070929  8.972828 -0.088042 -0.117789  \n",
       "997 -0.059974  0.777428 -0.020368 -0.070929 -0.154263 -0.088042 -0.117789  \n",
       "998 -0.059974  0.777428 -0.020368 -0.070929 -0.154263 -0.088042 -0.117789  \n",
       "999 -0.059974 -1.003454 -0.020368 -0.070929 -0.154263 -0.088042 -0.117789  \n",
       "\n",
       "[1000 rows x 85 columns]"
      ]
     },
     "execution_count": 13,
     "metadata": {},
     "output_type": "execute_result"
    }
   ],
   "source": [
    "testXCaravan = (testXCaravan-mean)/std # Scale test data set using the same mean and std.\n",
    "testXCaravan"
   ]
  },
  {
   "cell_type": "markdown",
   "id": "2420bce5",
   "metadata": {},
   "source": [
    "(c) Apply KNN method with K = 3 to obtain the test misclassification error and output the classification table."
   ]
  },
  {
   "cell_type": "code",
   "execution_count": 14,
   "id": "90bf8477",
   "metadata": {},
   "outputs": [
    {
     "name": "stderr",
     "output_type": "stream",
     "text": [
      "C:\\Users\\ymlxl\\.conda\\envs\\newenvt\\lib\\site-packages\\sklearn\\neighbors\\_classification.py:215: DataConversionWarning: A column-vector y was passed when a 1d array was expected. Please change the shape of y to (n_samples,), for example using ravel().\n",
      "  return self._fit(X, y)\n"
     ]
    },
    {
     "data": {
      "text/plain": [
       "array([[920,  21],\n",
       "       [ 53,   6]], dtype=int64)"
      ]
     },
     "execution_count": 14,
     "metadata": {},
     "output_type": "execute_result"
    }
   ],
   "source": [
    "from sklearn.neighbors import KNeighborsClassifier\n",
    "from sklearn.metrics import confusion_matrix\n",
    "\n",
    "kNN = KNeighborsClassifier(n_neighbors=3)\n",
    "kNN.fit(trainXCaravan, trainYCaravan) # Train the model with K = 3.\n",
    "y_true, y_pred = testYCaravan.to_numpy(), kNN.predict(testXCaravan) # Use the model we trained just now to fit on test data set.\n",
    "confusion_matrix(y_true, y_pred) # Output the classification table (confusion matrix)."
   ]
  },
  {
   "cell_type": "code",
   "execution_count": 15,
   "id": "d27d925c",
   "metadata": {},
   "outputs": [
    {
     "data": {
      "text/plain": [
       "0.082814"
      ]
     },
     "execution_count": 15,
     "metadata": {},
     "output_type": "execute_result"
    }
   ],
   "source": [
    "(y_pred != y_true).mean() # Test misclassification error"
   ]
  },
  {
   "cell_type": "markdown",
   "id": "34555fbb",
   "metadata": {},
   "source": [
    "(d) Set seed as your matric number. Use valuation-set approach to determine the optimal K value with the training data only. The candidate values of K are {3, 4, . . . , 10}."
   ]
  },
  {
   "cell_type": "code",
   "execution_count": 16,
   "id": "9ad645d4",
   "metadata": {},
   "outputs": [
    {
     "name": "stderr",
     "output_type": "stream",
     "text": [
      "C:\\Users\\ymlxl\\.conda\\envs\\newenvt\\lib\\site-packages\\sklearn\\neighbors\\_classification.py:215: DataConversionWarning: A column-vector y was passed when a 1d array was expected. Please change the shape of y to (n_samples,), for example using ravel().\n",
      "  return self._fit(X, y)\n",
      "C:\\Users\\ymlxl\\.conda\\envs\\newenvt\\lib\\site-packages\\sklearn\\neighbors\\_classification.py:215: DataConversionWarning: A column-vector y was passed when a 1d array was expected. Please change the shape of y to (n_samples,), for example using ravel().\n",
      "  return self._fit(X, y)\n",
      "C:\\Users\\ymlxl\\.conda\\envs\\newenvt\\lib\\site-packages\\sklearn\\neighbors\\_classification.py:215: DataConversionWarning: A column-vector y was passed when a 1d array was expected. Please change the shape of y to (n_samples,), for example using ravel().\n",
      "  return self._fit(X, y)\n",
      "C:\\Users\\ymlxl\\.conda\\envs\\newenvt\\lib\\site-packages\\sklearn\\neighbors\\_classification.py:215: DataConversionWarning: A column-vector y was passed when a 1d array was expected. Please change the shape of y to (n_samples,), for example using ravel().\n",
      "  return self._fit(X, y)\n",
      "C:\\Users\\ymlxl\\.conda\\envs\\newenvt\\lib\\site-packages\\sklearn\\neighbors\\_classification.py:215: DataConversionWarning: A column-vector y was passed when a 1d array was expected. Please change the shape of y to (n_samples,), for example using ravel().\n",
      "  return self._fit(X, y)\n",
      "C:\\Users\\ymlxl\\.conda\\envs\\newenvt\\lib\\site-packages\\sklearn\\neighbors\\_classification.py:215: DataConversionWarning: A column-vector y was passed when a 1d array was expected. Please change the shape of y to (n_samples,), for example using ravel().\n",
      "  return self._fit(X, y)\n",
      "C:\\Users\\ymlxl\\.conda\\envs\\newenvt\\lib\\site-packages\\sklearn\\neighbors\\_classification.py:215: DataConversionWarning: A column-vector y was passed when a 1d array was expected. Please change the shape of y to (n_samples,), for example using ravel().\n",
      "  return self._fit(X, y)\n",
      "C:\\Users\\ymlxl\\.conda\\envs\\newenvt\\lib\\site-packages\\sklearn\\neighbors\\_classification.py:215: DataConversionWarning: A column-vector y was passed when a 1d array was expected. Please change the shape of y to (n_samples,), for example using ravel().\n",
      "  return self._fit(X, y)\n"
     ]
    },
    {
     "data": {
      "text/plain": [
       "Text(0, 0.5, 'ErrTe')"
      ]
     },
     "execution_count": 16,
     "metadata": {},
     "output_type": "execute_result"
    },
    {
     "data": {
      "image/png": "[encoded data removed]",
      "text/plain": [
       "<Figure size 640x480 with 1 Axes>"
      ]
     },
     "metadata": {},
     "output_type": "display_data"
    }
   ],
   "source": [
    "from sklearn.model_selection import train_test_split\n",
    "seed = 2203441\n",
    "n = len(caravan)\n",
    "X_pdtrain, X_pdtest, y_pdtrain, y_pdtest = train_test_split(trainXCaravan, trainYCaravan, test_size=0.3, random_state=seed)\n",
    "# Use the training data only.\n",
    "ErrTe = []\n",
    "Kmax = 10 # K starts from 3 and ends at 10.\n",
    "for kk in range(3, Kmax+1):\n",
    "    kNN = KNeighborsClassifier(n_neighbors=kk)\n",
    "    kNN.fit(X_pdtrain, y_pdtrain)\n",
    "    y_pred_VSA = kNN.predict(X_pdtest)\n",
    "    y_pdtestarray = y_pdtest.to_numpy()\n",
    "    ErrTe.append((y_pred_VSA != y_pdtestarray).mean())\n",
    "\n",
    "import matplotlib.pyplot as plt \n",
    "import seaborn as sns\n",
    "sns.lineplot(x = np.arange(3, Kmax+1), y = np.asarray(ErrTe))\n",
    "plt.xlabel(\"No of neighbours\")\n",
    "plt.ylabel(\"ErrTe\")"
   ]
  },
  {
   "cell_type": "code",
   "execution_count": 17,
   "id": "a9a1bfab",
   "metadata": {},
   "outputs": [
    {
     "data": {
      "text/plain": [
       "[0.07648357610460171,\n",
       " 0.060651186426269064,\n",
       " 0.06247800061992283,\n",
       " 0.060651186426269064,\n",
       " 0.06126012449082032,\n",
       " 0.06004224836171781,\n",
       " 0.060651186426269064,\n",
       " 0.06004224836171781]"
      ]
     },
     "execution_count": 17,
     "metadata": {},
     "output_type": "execute_result"
    }
   ],
   "source": [
    "ErrTe"
   ]
  },
  {
   "cell_type": "markdown",
   "id": "de771de7",
   "metadata": {},
   "source": [
    "By comparing the above errors and graph, we could suggest that the optimal K value to be 8 or 10. This is because both K values have exactly the same ErrTe value. However, if we take consider of complexity, we should choose K = 10 as it is less complex."
   ]
  },
  {
   "cell_type": "markdown",
   "id": "07d4c154",
   "metadata": {},
   "source": [
    "(e) Set seed as your matric number minus one. Repeat part (d) and compare the results. Are they suggesting the same optimal K?"
   ]
  },
  {
   "cell_type": "code",
   "execution_count": 18,
   "id": "46948e75",
   "metadata": {},
   "outputs": [
    {
     "name": "stderr",
     "output_type": "stream",
     "text": [
      "C:\\Users\\ymlxl\\.conda\\envs\\newenvt\\lib\\site-packages\\sklearn\\neighbors\\_classification.py:215: DataConversionWarning: A column-vector y was passed when a 1d array was expected. Please change the shape of y to (n_samples,), for example using ravel().\n",
      "  return self._fit(X, y)\n",
      "C:\\Users\\ymlxl\\.conda\\envs\\newenvt\\lib\\site-packages\\sklearn\\neighbors\\_classification.py:215: DataConversionWarning: A column-vector y was passed when a 1d array was expected. Please change the shape of y to (n_samples,), for example using ravel().\n",
      "  return self._fit(X, y)\n",
      "C:\\Users\\ymlxl\\.conda\\envs\\newenvt\\lib\\site-packages\\sklearn\\neighbors\\_classification.py:215: DataConversionWarning: A column-vector y was passed when a 1d array was expected. Please change the shape of y to (n_samples,), for example using ravel().\n",
      "  return self._fit(X, y)\n",
      "C:\\Users\\ymlxl\\.conda\\envs\\newenvt\\lib\\site-packages\\sklearn\\neighbors\\_classification.py:215: DataConversionWarning: A column-vector y was passed when a 1d array was expected. Please change the shape of y to (n_samples,), for example using ravel().\n",
      "  return self._fit(X, y)\n",
      "C:\\Users\\ymlxl\\.conda\\envs\\newenvt\\lib\\site-packages\\sklearn\\neighbors\\_classification.py:215: DataConversionWarning: A column-vector y was passed when a 1d array was expected. Please change the shape of y to (n_samples,), for example using ravel().\n",
      "  return self._fit(X, y)\n",
      "C:\\Users\\ymlxl\\.conda\\envs\\newenvt\\lib\\site-packages\\sklearn\\neighbors\\_classification.py:215: DataConversionWarning: A column-vector y was passed when a 1d array was expected. Please change the shape of y to (n_samples,), for example using ravel().\n",
      "  return self._fit(X, y)\n",
      "C:\\Users\\ymlxl\\.conda\\envs\\newenvt\\lib\\site-packages\\sklearn\\neighbors\\_classification.py:215: DataConversionWarning: A column-vector y was passed when a 1d array was expected. Please change the shape of y to (n_samples,), for example using ravel().\n",
      "  return self._fit(X, y)\n",
      "C:\\Users\\ymlxl\\.conda\\envs\\newenvt\\lib\\site-packages\\sklearn\\neighbors\\_classification.py:215: DataConversionWarning: A column-vector y was passed when a 1d array was expected. Please change the shape of y to (n_samples,), for example using ravel().\n",
      "  return self._fit(X, y)\n"
     ]
    },
    {
     "data": {
      "text/plain": [
       "Text(0, 0.5, 'ErrTe')"
      ]
     },
     "execution_count": 18,
     "metadata": {},
     "output_type": "execute_result"
    },
    {
     "data": {
      "image/png": "[encoded data removed]",
      "text/plain": [
       "<Figure size 640x480 with 1 Axes>"
      ]
     },
     "metadata": {},
     "output_type": "display_data"
    }
   ],
   "source": [
    "seed = 2203440\n",
    "n = len(caravan)\n",
    "X_pdtrain, X_pdtest, y_pdtrain, y_pdtest = train_test_split(trainXCaravan, trainYCaravan, test_size=0.3, random_state=seed)\n",
    "\n",
    "ErrTe = []\n",
    "Kmax = 10\n",
    "for kk in range(3, Kmax+1):\n",
    "    kNN = KNeighborsClassifier(n_neighbors=kk)\n",
    "    kNN.fit(X_pdtrain, y_pdtrain)\n",
    "    y_pred_VSA = kNN.predict(X_pdtest)\n",
    "    y_pdtestarray = y_pdtest.to_numpy()\n",
    "    ErrTe.append((y_pred_VSA != y_pdtestarray).mean())\n",
    "\n",
    "import matplotlib.pyplot as plt \n",
    "import seaborn as sns\n",
    "sns.lineplot(x = np.arange(3, Kmax+1), y = np.asarray(ErrTe))\n",
    "plt.xlabel(\"No of neighbours\")\n",
    "plt.ylabel(\"ErrTe\")\n",
    "\n",
    "# Result is different due to the randomness in spliting despite using the same seed. This is the second time."
   ]
  },
  {
   "cell_type": "code",
   "execution_count": 19,
   "id": "5672243a",
   "metadata": {},
   "outputs": [
    {
     "data": {
      "text/plain": [
       "[0.07745357862154571,\n",
       " 0.06538944096620083,\n",
       " 0.06840547538003705,\n",
       " 0.0635798203178991,\n",
       " 0.06418302720066635,\n",
       " 0.0635798203178991,\n",
       " 0.0635798203178991,\n",
       " 0.0635798203178991]"
      ]
     },
     "execution_count": 19,
     "metadata": {},
     "output_type": "execute_result"
    }
   ],
   "source": [
    "ErrTe"
   ]
  },
  {
   "cell_type": "markdown",
   "id": "79328121",
   "metadata": {},
   "source": [
    "By comparing the above errors and graph, we could suggest that the optimal K value to be 8, 9 or 10. This is because all the three K values have exactly the same ErrTe value. This part is defferent from Question (d). However, if we take consider of complexity, we should choose K = 10 as it is less complex."
   ]
  },
  {
   "cell_type": "markdown",
   "id": "96ccaa3a",
   "metadata": {},
   "source": [
    "(f) Set seed as your matric number. Use 5-fold cross-validation approach to determine the optimal K value with the training data only. The candidate values of K are {3, 4, . . . , 10}."
   ]
  },
  {
   "cell_type": "code",
   "execution_count": 20,
   "id": "2a197559",
   "metadata": {},
   "outputs": [
    {
     "data": {
      "text/plain": [
       "5"
      ]
     },
     "execution_count": 20,
     "metadata": {},
     "output_type": "execute_result"
    }
   ],
   "source": [
    "from sklearn.model_selection import KFold\n",
    "seed = 2203441\n",
    "kf = KFold(5, random_state = seed, shuffle = True)\n",
    "kf.get_n_splits(trainXCaravan)"
   ]
  },
  {
   "cell_type": "code",
   "execution_count": 21,
   "id": "dd4f3991",
   "metadata": {},
   "outputs": [
    {
     "name": "stderr",
     "output_type": "stream",
     "text": [
      "C:\\Users\\ymlxl\\.conda\\envs\\newenvt\\lib\\site-packages\\sklearn\\neighbors\\_classification.py:215: DataConversionWarning: A column-vector y was passed when a 1d array was expected. Please change the shape of y to (n_samples,), for example using ravel().\n",
      "  return self._fit(X, y)\n",
      "C:\\Users\\ymlxl\\.conda\\envs\\newenvt\\lib\\site-packages\\sklearn\\neighbors\\_classification.py:215: DataConversionWarning: A column-vector y was passed when a 1d array was expected. Please change the shape of y to (n_samples,), for example using ravel().\n",
      "  return self._fit(X, y)\n",
      "C:\\Users\\ymlxl\\.conda\\envs\\newenvt\\lib\\site-packages\\sklearn\\neighbors\\_classification.py:215: DataConversionWarning: A column-vector y was passed when a 1d array was expected. Please change the shape of y to (n_samples,), for example using ravel().\n",
      "  return self._fit(X, y)\n",
      "C:\\Users\\ymlxl\\.conda\\envs\\newenvt\\lib\\site-packages\\sklearn\\neighbors\\_classification.py:215: DataConversionWarning: A column-vector y was passed when a 1d array was expected. Please change the shape of y to (n_samples,), for example using ravel().\n",
      "  return self._fit(X, y)\n",
      "C:\\Users\\ymlxl\\.conda\\envs\\newenvt\\lib\\site-packages\\sklearn\\neighbors\\_classification.py:215: DataConversionWarning: A column-vector y was passed when a 1d array was expected. Please change the shape of y to (n_samples,), for example using ravel().\n",
      "  return self._fit(X, y)\n",
      "C:\\Users\\ymlxl\\.conda\\envs\\newenvt\\lib\\site-packages\\sklearn\\neighbors\\_classification.py:215: DataConversionWarning: A column-vector y was passed when a 1d array was expected. Please change the shape of y to (n_samples,), for example using ravel().\n",
      "  return self._fit(X, y)\n",
      "C:\\Users\\ymlxl\\.conda\\envs\\newenvt\\lib\\site-packages\\sklearn\\neighbors\\_classification.py:215: DataConversionWarning: A column-vector y was passed when a 1d array was expected. Please change the shape of y to (n_samples,), for example using ravel().\n",
      "  return self._fit(X, y)\n",
      "C:\\Users\\ymlxl\\.conda\\envs\\newenvt\\lib\\site-packages\\sklearn\\neighbors\\_classification.py:215: DataConversionWarning: A column-vector y was passed when a 1d array was expected. Please change the shape of y to (n_samples,), for example using ravel().\n",
      "  return self._fit(X, y)\n",
      "C:\\Users\\ymlxl\\.conda\\envs\\newenvt\\lib\\site-packages\\sklearn\\neighbors\\_classification.py:215: DataConversionWarning: A column-vector y was passed when a 1d array was expected. Please change the shape of y to (n_samples,), for example using ravel().\n",
      "  return self._fit(X, y)\n",
      "C:\\Users\\ymlxl\\.conda\\envs\\newenvt\\lib\\site-packages\\sklearn\\neighbors\\_classification.py:215: DataConversionWarning: A column-vector y was passed when a 1d array was expected. Please change the shape of y to (n_samples,), for example using ravel().\n",
      "  return self._fit(X, y)\n",
      "C:\\Users\\ymlxl\\.conda\\envs\\newenvt\\lib\\site-packages\\sklearn\\neighbors\\_classification.py:215: DataConversionWarning: A column-vector y was passed when a 1d array was expected. Please change the shape of y to (n_samples,), for example using ravel().\n",
      "  return self._fit(X, y)\n",
      "C:\\Users\\ymlxl\\.conda\\envs\\newenvt\\lib\\site-packages\\sklearn\\neighbors\\_classification.py:215: DataConversionWarning: A column-vector y was passed when a 1d array was expected. Please change the shape of y to (n_samples,), for example using ravel().\n",
      "  return self._fit(X, y)\n",
      "C:\\Users\\ymlxl\\.conda\\envs\\newenvt\\lib\\site-packages\\sklearn\\neighbors\\_classification.py:215: DataConversionWarning: A column-vector y was passed when a 1d array was expected. Please change the shape of y to (n_samples,), for example using ravel().\n",
      "  return self._fit(X, y)\n",
      "C:\\Users\\ymlxl\\.conda\\envs\\newenvt\\lib\\site-packages\\sklearn\\neighbors\\_classification.py:215: DataConversionWarning: A column-vector y was passed when a 1d array was expected. Please change the shape of y to (n_samples,), for example using ravel().\n",
      "  return self._fit(X, y)\n",
      "C:\\Users\\ymlxl\\.conda\\envs\\newenvt\\lib\\site-packages\\sklearn\\neighbors\\_classification.py:215: DataConversionWarning: A column-vector y was passed when a 1d array was expected. Please change the shape of y to (n_samples,), for example using ravel().\n",
      "  return self._fit(X, y)\n",
      "C:\\Users\\ymlxl\\.conda\\envs\\newenvt\\lib\\site-packages\\sklearn\\neighbors\\_classification.py:215: DataConversionWarning: A column-vector y was passed when a 1d array was expected. Please change the shape of y to (n_samples,), for example using ravel().\n",
      "  return self._fit(X, y)\n",
      "C:\\Users\\ymlxl\\.conda\\envs\\newenvt\\lib\\site-packages\\sklearn\\neighbors\\_classification.py:215: DataConversionWarning: A column-vector y was passed when a 1d array was expected. Please change the shape of y to (n_samples,), for example using ravel().\n",
      "  return self._fit(X, y)\n",
      "C:\\Users\\ymlxl\\.conda\\envs\\newenvt\\lib\\site-packages\\sklearn\\neighbors\\_classification.py:215: DataConversionWarning: A column-vector y was passed when a 1d array was expected. Please change the shape of y to (n_samples,), for example using ravel().\n",
      "  return self._fit(X, y)\n",
      "C:\\Users\\ymlxl\\.conda\\envs\\newenvt\\lib\\site-packages\\sklearn\\neighbors\\_classification.py:215: DataConversionWarning: A column-vector y was passed when a 1d array was expected. Please change the shape of y to (n_samples,), for example using ravel().\n",
      "  return self._fit(X, y)\n",
      "C:\\Users\\ymlxl\\.conda\\envs\\newenvt\\lib\\site-packages\\sklearn\\neighbors\\_classification.py:215: DataConversionWarning: A column-vector y was passed when a 1d array was expected. Please change the shape of y to (n_samples,), for example using ravel().\n",
      "  return self._fit(X, y)\n",
      "C:\\Users\\ymlxl\\.conda\\envs\\newenvt\\lib\\site-packages\\sklearn\\neighbors\\_classification.py:215: DataConversionWarning: A column-vector y was passed when a 1d array was expected. Please change the shape of y to (n_samples,), for example using ravel().\n",
      "  return self._fit(X, y)\n",
      "C:\\Users\\ymlxl\\.conda\\envs\\newenvt\\lib\\site-packages\\sklearn\\neighbors\\_classification.py:215: DataConversionWarning: A column-vector y was passed when a 1d array was expected. Please change the shape of y to (n_samples,), for example using ravel().\n",
      "  return self._fit(X, y)\n",
      "C:\\Users\\ymlxl\\.conda\\envs\\newenvt\\lib\\site-packages\\sklearn\\neighbors\\_classification.py:215: DataConversionWarning: A column-vector y was passed when a 1d array was expected. Please change the shape of y to (n_samples,), for example using ravel().\n",
      "  return self._fit(X, y)\n",
      "C:\\Users\\ymlxl\\.conda\\envs\\newenvt\\lib\\site-packages\\sklearn\\neighbors\\_classification.py:215: DataConversionWarning: A column-vector y was passed when a 1d array was expected. Please change the shape of y to (n_samples,), for example using ravel().\n",
      "  return self._fit(X, y)\n",
      "C:\\Users\\ymlxl\\.conda\\envs\\newenvt\\lib\\site-packages\\sklearn\\neighbors\\_classification.py:215: DataConversionWarning: A column-vector y was passed when a 1d array was expected. Please change the shape of y to (n_samples,), for example using ravel().\n",
      "  return self._fit(X, y)\n",
      "C:\\Users\\ymlxl\\.conda\\envs\\newenvt\\lib\\site-packages\\sklearn\\neighbors\\_classification.py:215: DataConversionWarning: A column-vector y was passed when a 1d array was expected. Please change the shape of y to (n_samples,), for example using ravel().\n",
      "  return self._fit(X, y)\n",
      "C:\\Users\\ymlxl\\.conda\\envs\\newenvt\\lib\\site-packages\\sklearn\\neighbors\\_classification.py:215: DataConversionWarning: A column-vector y was passed when a 1d array was expected. Please change the shape of y to (n_samples,), for example using ravel().\n",
      "  return self._fit(X, y)\n",
      "C:\\Users\\ymlxl\\.conda\\envs\\newenvt\\lib\\site-packages\\sklearn\\neighbors\\_classification.py:215: DataConversionWarning: A column-vector y was passed when a 1d array was expected. Please change the shape of y to (n_samples,), for example using ravel().\n",
      "  return self._fit(X, y)\n",
      "C:\\Users\\ymlxl\\.conda\\envs\\newenvt\\lib\\site-packages\\sklearn\\neighbors\\_classification.py:215: DataConversionWarning: A column-vector y was passed when a 1d array was expected. Please change the shape of y to (n_samples,), for example using ravel().\n",
      "  return self._fit(X, y)\n",
      "C:\\Users\\ymlxl\\.conda\\envs\\newenvt\\lib\\site-packages\\sklearn\\neighbors\\_classification.py:215: DataConversionWarning: A column-vector y was passed when a 1d array was expected. Please change the shape of y to (n_samples,), for example using ravel().\n",
      "  return self._fit(X, y)\n",
      "C:\\Users\\ymlxl\\.conda\\envs\\newenvt\\lib\\site-packages\\sklearn\\neighbors\\_classification.py:215: DataConversionWarning: A column-vector y was passed when a 1d array was expected. Please change the shape of y to (n_samples,), for example using ravel().\n",
      "  return self._fit(X, y)\n"
     ]
    },
    {
     "name": "stderr",
     "output_type": "stream",
     "text": [
      "C:\\Users\\ymlxl\\.conda\\envs\\newenvt\\lib\\site-packages\\sklearn\\neighbors\\_classification.py:215: DataConversionWarning: A column-vector y was passed when a 1d array was expected. Please change the shape of y to (n_samples,), for example using ravel().\n",
      "  return self._fit(X, y)\n",
      "C:\\Users\\ymlxl\\.conda\\envs\\newenvt\\lib\\site-packages\\sklearn\\neighbors\\_classification.py:215: DataConversionWarning: A column-vector y was passed when a 1d array was expected. Please change the shape of y to (n_samples,), for example using ravel().\n",
      "  return self._fit(X, y)\n",
      "C:\\Users\\ymlxl\\.conda\\envs\\newenvt\\lib\\site-packages\\sklearn\\neighbors\\_classification.py:215: DataConversionWarning: A column-vector y was passed when a 1d array was expected. Please change the shape of y to (n_samples,), for example using ravel().\n",
      "  return self._fit(X, y)\n",
      "C:\\Users\\ymlxl\\.conda\\envs\\newenvt\\lib\\site-packages\\sklearn\\neighbors\\_classification.py:215: DataConversionWarning: A column-vector y was passed when a 1d array was expected. Please change the shape of y to (n_samples,), for example using ravel().\n",
      "  return self._fit(X, y)\n",
      "C:\\Users\\ymlxl\\.conda\\envs\\newenvt\\lib\\site-packages\\sklearn\\neighbors\\_classification.py:215: DataConversionWarning: A column-vector y was passed when a 1d array was expected. Please change the shape of y to (n_samples,), for example using ravel().\n",
      "  return self._fit(X, y)\n",
      "C:\\Users\\ymlxl\\.conda\\envs\\newenvt\\lib\\site-packages\\sklearn\\neighbors\\_classification.py:215: DataConversionWarning: A column-vector y was passed when a 1d array was expected. Please change the shape of y to (n_samples,), for example using ravel().\n",
      "  return self._fit(X, y)\n",
      "C:\\Users\\ymlxl\\.conda\\envs\\newenvt\\lib\\site-packages\\sklearn\\neighbors\\_classification.py:215: DataConversionWarning: A column-vector y was passed when a 1d array was expected. Please change the shape of y to (n_samples,), for example using ravel().\n",
      "  return self._fit(X, y)\n",
      "C:\\Users\\ymlxl\\.conda\\envs\\newenvt\\lib\\site-packages\\sklearn\\neighbors\\_classification.py:215: DataConversionWarning: A column-vector y was passed when a 1d array was expected. Please change the shape of y to (n_samples,), for example using ravel().\n",
      "  return self._fit(X, y)\n",
      "C:\\Users\\ymlxl\\.conda\\envs\\newenvt\\lib\\site-packages\\sklearn\\neighbors\\_classification.py:215: DataConversionWarning: A column-vector y was passed when a 1d array was expected. Please change the shape of y to (n_samples,), for example using ravel().\n",
      "  return self._fit(X, y)\n"
     ]
    }
   ],
   "source": [
    "# Cross validation\n",
    "Kmax = 10\n",
    "ErrCV = np.zeros((8,5))\n",
    "f = 0\n",
    "\n",
    "for f in range(0,5):\n",
    "    result = next(kf.split(trainXCaravan), None)\n",
    "    X_pdtrain, y_pdtrain = trainXCaravan.iloc[result[0]],trainYCaravan.iloc[result[0]]\n",
    "    X_pdtest, y_pdtest = trainXCaravan.iloc[result[1]],trainYCaravan.iloc[result[1]]\n",
    "    #Data Preprocessing on pdtrain and pdtest\n",
    "    \n",
    "    for kk in range(3, Kmax+1):\n",
    "        kNN = KNeighborsClassifier(n_neighbors=kk)\n",
    "        kNN.fit(X_pdtrain, y_pdtrain) \n",
    "        y_pred = kNN.predict(X_pdtest)\n",
    "        y_pred = y_pred.reshape(965,1)\n",
    "        ErrCV[kk-3, f] = (y_pred != y_pdtest).mean()\n",
    "    f+=1"
   ]
  },
  {
   "cell_type": "code",
   "execution_count": 22,
   "id": "f494bb4b",
   "metadata": {},
   "outputs": [
    {
     "data": {
      "text/plain": [
       "array([[0.07150259, 0.07150259, 0.07150259, 0.07150259, 0.07150259],\n",
       "       [0.05595855, 0.05595855, 0.05595855, 0.05595855, 0.05595855],\n",
       "       [0.05906736, 0.05906736, 0.05906736, 0.05906736, 0.05906736],\n",
       "       [0.05492228, 0.05492228, 0.05492228, 0.05492228, 0.05492228],\n",
       "       [0.05595855, 0.05595855, 0.05595855, 0.05595855, 0.05595855],\n",
       "       [0.05492228, 0.05492228, 0.05492228, 0.05492228, 0.05492228],\n",
       "       [0.05699482, 0.05699482, 0.05699482, 0.05699482, 0.05699482],\n",
       "       [0.05595855, 0.05595855, 0.05595855, 0.05595855, 0.05595855]])"
      ]
     },
     "execution_count": 22,
     "metadata": {},
     "output_type": "execute_result"
    }
   ],
   "source": [
    "ErrCV"
   ]
  },
  {
   "cell_type": "code",
   "execution_count": 23,
   "id": "05babf51",
   "metadata": {},
   "outputs": [
    {
     "data": {
      "text/plain": [
       "Text(0, 0.5, 'ErrTe')"
      ]
     },
     "execution_count": 23,
     "metadata": {},
     "output_type": "execute_result"
    },
    {
     "data": {
      "image/png": "[encoded data removed]",
      "text/plain": [
       "<Figure size 640x480 with 1 Axes>"
      ]
     },
     "metadata": {},
     "output_type": "display_data"
    }
   ],
   "source": [
    "# Plot average CV error\n",
    "sns.lineplot(x = np.arange(3, Kmax+1), y = ErrCV.mean(axis = 1))\n",
    "plt.xlabel(\"No of neighbours\")\n",
    "plt.ylabel(\"ErrTe\")"
   ]
  },
  {
   "cell_type": "markdown",
   "id": "470a547b",
   "metadata": {},
   "source": [
    "The optimal K value should be 6 or 8."
   ]
  },
  {
   "cell_type": "markdown",
   "id": "49621e69",
   "metadata": {},
   "source": [
    "Question 4 Preprocessing"
   ]
  },
  {
   "cell_type": "code",
   "execution_count": 24,
   "id": "41c5e563",
   "metadata": {},
   "outputs": [
    {
     "data": {
      "text/html": [
       "<div>\n",
       "<style scoped>\n",
       "    .dataframe tbody tr th:only-of-type {\n",
       "        vertical-align: middle;\n",
       "    }\n",
       "\n",
       "    .dataframe tbody tr th {\n",
       "        vertical-align: top;\n",
       "    }\n",
       "\n",
       "    .dataframe thead th {\n",
       "        text-align: right;\n",
       "    }\n",
       "</style>\n",
       "<table border=\"1\" class=\"dataframe\">\n",
       "  <thead>\n",
       "    <tr style=\"text-align: right;\">\n",
       "      <th></th>\n",
       "      <th>LotArea</th>\n",
       "      <th>OverallQual</th>\n",
       "      <th>OverallCond</th>\n",
       "      <th>YearBuilt</th>\n",
       "      <th>YearRemodAdd</th>\n",
       "      <th>BsmtFinSF1</th>\n",
       "      <th>BsmtUnfSF</th>\n",
       "      <th>TotalBsmtSF</th>\n",
       "      <th>X1stFlrSF</th>\n",
       "      <th>X2ndFlrSF</th>\n",
       "      <th>...</th>\n",
       "      <th>OLDTown</th>\n",
       "      <th>SWISU</th>\n",
       "      <th>Sawyer</th>\n",
       "      <th>SawyerW</th>\n",
       "      <th>Somerst</th>\n",
       "      <th>StoneBr</th>\n",
       "      <th>Timber</th>\n",
       "      <th>Veenker</th>\n",
       "      <th>Bsmt.Qual</th>\n",
       "      <th>Sale.Price</th>\n",
       "    </tr>\n",
       "  </thead>\n",
       "  <tbody>\n",
       "    <tr>\n",
       "      <th>0</th>\n",
       "      <td>-0.103508</td>\n",
       "      <td>0.652747</td>\n",
       "      <td>-0.512407</td>\n",
       "      <td>1.105669</td>\n",
       "      <td>1.021085</td>\n",
       "      <td>-1.013221</td>\n",
       "      <td>0.706831</td>\n",
       "      <td>-0.427355</td>\n",
       "      <td>-0.747345</td>\n",
       "      <td>1.348709</td>\n",
       "      <td>...</td>\n",
       "      <td>-0.286942</td>\n",
       "      <td>-0.136621</td>\n",
       "      <td>-0.2253</td>\n",
       "      <td>-0.214192</td>\n",
       "      <td>-0.268378</td>\n",
       "      <td>-0.127929</td>\n",
       "      <td>-0.152629</td>\n",
       "      <td>-0.091644</td>\n",
       "      <td>0.584308</td>\n",
       "      <td>0.131871</td>\n",
       "    </tr>\n",
       "    <tr>\n",
       "      <th>1</th>\n",
       "      <td>-0.391477</td>\n",
       "      <td>-0.072527</td>\n",
       "      <td>1.289025</td>\n",
       "      <td>-1.700682</td>\n",
       "      <td>-1.691761</td>\n",
       "      <td>-1.013221</td>\n",
       "      <td>0.043788</td>\n",
       "      <td>-1.131789</td>\n",
       "      <td>-0.822185</td>\n",
       "      <td>0.576088</td>\n",
       "      <td>...</td>\n",
       "      <td>-0.286942</td>\n",
       "      <td>-0.136621</td>\n",
       "      <td>-0.2253</td>\n",
       "      <td>-0.214192</td>\n",
       "      <td>-0.268378</td>\n",
       "      <td>-0.127929</td>\n",
       "      <td>-0.152629</td>\n",
       "      <td>-0.091644</td>\n",
       "      <td>-0.577852</td>\n",
       "      <td>-0.509136</td>\n",
       "    </tr>\n",
       "    <tr>\n",
       "      <th>2</th>\n",
       "      <td>0.050903</td>\n",
       "      <td>-0.797802</td>\n",
       "      <td>-0.512407</td>\n",
       "      <td>-0.564778</td>\n",
       "      <td>0.391317</td>\n",
       "      <td>-0.148361</td>\n",
       "      <td>-0.215566</td>\n",
       "      <td>1.340918</td>\n",
       "      <td>1.893435</td>\n",
       "      <td>-0.789421</td>\n",
       "      <td>...</td>\n",
       "      <td>-0.286942</td>\n",
       "      <td>-0.136621</td>\n",
       "      <td>-0.2253</td>\n",
       "      <td>-0.214192</td>\n",
       "      <td>-0.268378</td>\n",
       "      <td>-0.127929</td>\n",
       "      <td>-0.152629</td>\n",
       "      <td>-0.091644</td>\n",
       "      <td>-0.577852</td>\n",
       "      <td>0.118921</td>\n",
       "    </tr>\n",
       "    <tr>\n",
       "      <th>3</th>\n",
       "      <td>0.121010</td>\n",
       "      <td>-0.072527</td>\n",
       "      <td>-0.512407</td>\n",
       "      <td>-1.633864</td>\n",
       "      <td>-1.691761</td>\n",
       "      <td>-1.013221</td>\n",
       "      <td>1.430767</td>\n",
       "      <td>0.341772</td>\n",
       "      <td>0.110641</td>\n",
       "      <td>-0.789421</td>\n",
       "      <td>...</td>\n",
       "      <td>3.483094</td>\n",
       "      <td>-0.136621</td>\n",
       "      <td>-0.2253</td>\n",
       "      <td>-0.214192</td>\n",
       "      <td>-0.268378</td>\n",
       "      <td>-0.127929</td>\n",
       "      <td>-0.152629</td>\n",
       "      <td>-0.091644</td>\n",
       "      <td>-0.577852</td>\n",
       "      <td>-0.722805</td>\n",
       "    </tr>\n",
       "    <tr>\n",
       "      <th>4</th>\n",
       "      <td>-0.245607</td>\n",
       "      <td>2.103297</td>\n",
       "      <td>-0.512407</td>\n",
       "      <td>1.139078</td>\n",
       "      <td>1.021085</td>\n",
       "      <td>0.805495</td>\n",
       "      <td>0.562496</td>\n",
       "      <td>1.328938</td>\n",
       "      <td>1.211857</td>\n",
       "      <td>-0.789421</td>\n",
       "      <td>...</td>\n",
       "      <td>-0.286942</td>\n",
       "      <td>-0.136621</td>\n",
       "      <td>-0.2253</td>\n",
       "      <td>-0.214192</td>\n",
       "      <td>-0.268378</td>\n",
       "      <td>7.812492</td>\n",
       "      <td>-0.152629</td>\n",
       "      <td>-0.091644</td>\n",
       "      <td>1.746467</td>\n",
       "      <td>1.801077</td>\n",
       "    </tr>\n",
       "  </tbody>\n",
       "</table>\n",
       "<p>5 rows × 48 columns</p>\n",
       "</div>"
      ],
      "text/plain": [
       "    LotArea  OverallQual  OverallCond  YearBuilt  YearRemodAdd  BsmtFinSF1  \\\n",
       "0 -0.103508     0.652747    -0.512407   1.105669      1.021085   -1.013221   \n",
       "1 -0.391477    -0.072527     1.289025  -1.700682     -1.691761   -1.013221   \n",
       "2  0.050903    -0.797802    -0.512407  -0.564778      0.391317   -0.148361   \n",
       "3  0.121010    -0.072527    -0.512407  -1.633864     -1.691761   -1.013221   \n",
       "4 -0.245607     2.103297    -0.512407   1.139078      1.021085    0.805495   \n",
       "\n",
       "   BsmtUnfSF  TotalBsmtSF  X1stFlrSF  X2ndFlrSF  ...   OLDTown     SWISU  \\\n",
       "0   0.706831    -0.427355  -0.747345   1.348709  ... -0.286942 -0.136621   \n",
       "1   0.043788    -1.131789  -0.822185   0.576088  ... -0.286942 -0.136621   \n",
       "2  -0.215566     1.340918   1.893435  -0.789421  ... -0.286942 -0.136621   \n",
       "3   1.430767     0.341772   0.110641  -0.789421  ...  3.483094 -0.136621   \n",
       "4   0.562496     1.328938   1.211857  -0.789421  ... -0.286942 -0.136621   \n",
       "\n",
       "   Sawyer   SawyerW   Somerst   StoneBr    Timber   Veenker  Bsmt.Qual  \\\n",
       "0 -0.2253 -0.214192 -0.268378 -0.127929 -0.152629 -0.091644   0.584308   \n",
       "1 -0.2253 -0.214192 -0.268378 -0.127929 -0.152629 -0.091644  -0.577852   \n",
       "2 -0.2253 -0.214192 -0.268378 -0.127929 -0.152629 -0.091644  -0.577852   \n",
       "3 -0.2253 -0.214192 -0.268378 -0.127929 -0.152629 -0.091644  -0.577852   \n",
       "4 -0.2253 -0.214192 -0.268378  7.812492 -0.152629 -0.091644   1.746467   \n",
       "\n",
       "   Sale.Price  \n",
       "0    0.131871  \n",
       "1   -0.509136  \n",
       "2    0.118921  \n",
       "3   -0.722805  \n",
       "4    1.801077  \n",
       "\n",
       "[5 rows x 48 columns]"
      ]
     },
     "execution_count": 24,
     "metadata": {},
     "output_type": "execute_result"
    }
   ],
   "source": [
    "trainhouse = pd.read_csv(\"Houseprice.train.csv\")\n",
    "testhouse = pd.read_csv(\"Houseprice.test.csv\")\n",
    "trainhouse.head()"
   ]
  },
  {
   "cell_type": "code",
   "execution_count": 25,
   "id": "de84490d",
   "metadata": {},
   "outputs": [
    {
     "data": {
      "text/plain": [
       "(2035, 48)"
      ]
     },
     "execution_count": 25,
     "metadata": {},
     "output_type": "execute_result"
    }
   ],
   "source": [
    "trainhouse.shape"
   ]
  },
  {
   "cell_type": "code",
   "execution_count": 26,
   "id": "dbc951fd",
   "metadata": {},
   "outputs": [
    {
     "data": {
      "text/plain": [
       "(873, 48)"
      ]
     },
     "execution_count": 26,
     "metadata": {},
     "output_type": "execute_result"
    }
   ],
   "source": [
    "testhouse.shape"
   ]
  },
  {
   "cell_type": "code",
   "execution_count": 27,
   "id": "d735f8a0",
   "metadata": {},
   "outputs": [
    {
     "data": {
      "text/plain": [
       "Index(['LotArea', 'OverallQual', 'OverallCond', 'YearBuilt', 'YearRemodAdd',\n",
       "       'BsmtFinSF1', 'BsmtUnfSF', 'TotalBsmtSF', 'X1stFlrSF', 'X2ndFlrSF',\n",
       "       'GrLivArea', 'FullBath', 'HalfBath', 'BedroomAbvGr', 'TotRmsAbvGrd',\n",
       "       'Fireplaces', 'GarageCars', 'GarageArea', 'WoodDeckSF', 'OpenPorchSF',\n",
       "       'EnclosedPorch', 'Blmngtn', 'Blueste', 'BrDale', 'BrkSide', 'ClearCr',\n",
       "       'CollgCr', 'Crawfor', 'Edwards', 'Gilbert', 'IDOTRR', 'MeadowV',\n",
       "       'Mitchel', 'Names', 'NoRidge', 'NPkVill', 'NriddgHt', 'NWAmes',\n",
       "       'OLDTown', 'SWISU', 'Sawyer', 'SawyerW', 'Somerst', 'StoneBr', 'Timber',\n",
       "       'Veenker', 'Bsmt.Qual', 'Sale.Price'],\n",
       "      dtype='object')"
      ]
     },
     "execution_count": 27,
     "metadata": {},
     "output_type": "execute_result"
    }
   ],
   "source": [
    "trainhouse.columns"
   ]
  },
  {
   "cell_type": "markdown",
   "id": "c61772a2",
   "metadata": {},
   "source": [
    "(a) Fit a linear regression."
   ]
  },
  {
   "cell_type": "code",
   "execution_count": 28,
   "id": "4e83ac47",
   "metadata": {},
   "outputs": [],
   "source": [
    "import statsmodels.api as sm\n",
    "Y = trainhouse[\"Sale.Price\"]\n",
    "X = trainhouse.iloc[:,0:47]\n",
    "modelLinear = sm.OLS(Y, X).fit()"
   ]
  },
  {
   "cell_type": "code",
   "execution_count": 29,
   "id": "bb2c2db2",
   "metadata": {},
   "outputs": [
    {
     "name": "stdout",
     "output_type": "stream",
     "text": [
      "                            OLS Regression Results                            \n",
      "==============================================================================\n",
      "Dep. Variable:             Sale.Price   R-squared:                       0.899\n",
      "Model:                            OLS   Adj. R-squared:                  0.896\n",
      "Method:                 Least Squares   F-statistic:                     383.6\n",
      "Date:                Sun, 09 Apr 2023   Prob (F-statistic):               0.00\n",
      "Time:                        19:56:03   Log-Likelihood:                -557.41\n",
      "No. Observations:                2035   AIC:                             1209.\n",
      "Df Residuals:                    1988   BIC:                             1473.\n",
      "Df Model:                          46                                         \n",
      "Covariance Type:            nonrobust                                         \n",
      "=================================================================================\n",
      "                    coef    std err          t      P>|t|      [0.025      0.975]\n",
      "---------------------------------------------------------------------------------\n",
      "LotArea           0.0877      0.009      9.368      0.000       0.069       0.106\n",
      "OverallQual       0.2213      0.013     16.398      0.000       0.195       0.248\n",
      "OverallCond       0.0886      0.009      9.766      0.000       0.071       0.106\n",
      "YearBuilt         0.1707      0.019      9.112      0.000       0.134       0.207\n",
      "YearRemodAdd      0.0342      0.011      3.059      0.002       0.012       0.056\n",
      "BsmtFinSF1        0.0700      0.020      3.485      0.001       0.031       0.109\n",
      "BsmtUnfSF        -0.0637      0.020     -3.173      0.002      -0.103      -0.024\n",
      "TotalBsmtSF       0.1448      0.023      6.169      0.000       0.099       0.191\n",
      "X1stFlrSF         0.2178      0.066      3.322      0.001       0.089       0.346\n",
      "X2ndFlrSF         0.2165      0.074      2.926      0.003       0.071       0.362\n",
      "GrLivArea         0.1290      0.084      1.543      0.123      -0.035       0.293\n",
      "FullBath         -0.0150      0.012     -1.257      0.209      -0.038       0.008\n",
      "HalfBath         -0.0063      0.011     -0.584      0.559      -0.027       0.015\n",
      "BedroomAbvGr     -0.0751      0.011     -6.735      0.000      -0.097      -0.053\n",
      "TotRmsAbvGrd      0.0336      0.015      2.218      0.027       0.004       0.063\n",
      "Fireplaces        0.0133      0.009      1.449      0.147      -0.005       0.031\n",
      "GarageCars        0.0285      0.017      1.649      0.099      -0.005       0.062\n",
      "GarageArea        0.0582      0.017      3.464      0.001       0.025       0.091\n",
      "WoodDeckSF        0.0235      0.008      3.040      0.002       0.008       0.039\n",
      "OpenPorchSF       0.0138      0.008      1.815      0.070      -0.001       0.029\n",
      "EnclosedPorch     0.0075      0.007      1.013      0.311      -0.007       0.022\n",
      "Blmngtn       -9.893e+06    8.4e+06     -1.177      0.239   -2.64e+07    6.58e+06\n",
      "Blueste       -4.558e+06   3.87e+06     -1.177      0.239   -1.22e+07    3.03e+06\n",
      "BrDale        -1.015e+07   8.62e+06     -1.177      0.239    -2.7e+07    6.75e+06\n",
      "BrkSide       -1.833e+07   1.56e+07     -1.177      0.239   -4.88e+07    1.22e+07\n",
      "ClearCr       -1.279e+07   1.09e+07     -1.177      0.239   -3.41e+07    8.51e+06\n",
      "CollgCr       -2.739e+07   2.33e+07     -1.177      0.239    -7.3e+07    1.82e+07\n",
      "Crawfor       -1.666e+07   1.41e+07     -1.177      0.239   -4.44e+07    1.11e+07\n",
      "Edwards       -2.319e+07   1.97e+07     -1.177      0.239   -6.18e+07    1.54e+07\n",
      "Gilbert       -2.309e+07   1.96e+07     -1.177      0.239   -6.15e+07    1.54e+07\n",
      "IDOTRR        -1.427e+07   1.21e+07     -1.177      0.239    -3.8e+07     9.5e+06\n",
      "MeadowV       -1.039e+07   8.83e+06     -1.177      0.239   -2.77e+07    6.92e+06\n",
      "Mitchel       -1.765e+07    1.5e+07     -1.177      0.239   -4.71e+07    1.17e+07\n",
      "Names         -3.603e+07   3.06e+07     -1.177      0.239    -9.6e+07     2.4e+07\n",
      "NoRidge       -1.544e+07   1.31e+07     -1.177      0.239   -4.11e+07    1.03e+07\n",
      "NPkVill       -9.363e+06   7.95e+06     -1.177      0.239    -2.5e+07    6.23e+06\n",
      "NriddgHt      -2.289e+07   1.94e+07     -1.177      0.239    -6.1e+07    1.52e+07\n",
      "NWAmes        -2.121e+07    1.8e+07     -1.177      0.239   -5.65e+07    1.41e+07\n",
      "OLDTown       -2.567e+07   2.18e+07     -1.177      0.239   -6.84e+07    1.71e+07\n",
      "SWISU         -1.299e+07    1.1e+07     -1.177      0.239   -3.46e+07    8.64e+06\n",
      "Sawyer        -2.076e+07   1.76e+07     -1.177      0.239   -5.53e+07    1.38e+07\n",
      "SawyerW       -1.983e+07   1.68e+07     -1.177      0.239   -5.29e+07    1.32e+07\n",
      "Somerst       -2.424e+07   2.06e+07     -1.177      0.239   -6.46e+07    1.61e+07\n",
      "StoneBr       -1.219e+07   1.04e+07     -1.177      0.239   -3.25e+07    8.11e+06\n",
      "Timber        -1.444e+07   1.23e+07     -1.177      0.239   -3.85e+07    9.61e+06\n",
      "Veenker         -8.8e+06   7.47e+06     -1.177      0.239   -2.35e+07    5.86e+06\n",
      "Bsmt.Qual         0.0353      0.012      2.856      0.004       0.011       0.059\n",
      "==============================================================================\n",
      "Omnibus:                      337.117   Durbin-Watson:                   2.040\n",
      "Prob(Omnibus):                  0.000   Jarque-Bera (JB):             2004.271\n",
      "Skew:                           0.638   Prob(JB):                         0.00\n",
      "Kurtosis:                       7.691   Cond. No.                     3.00e+10\n",
      "==============================================================================\n",
      "\n",
      "Notes:\n",
      "[1] Standard Errors assume that the covariance matrix of the errors is correctly specified.\n",
      "[2] The smallest eigenvalue is 1.65e-17. This might indicate that there are\n",
      "strong multicollinearity problems or that the design matrix is singular.\n"
     ]
    }
   ],
   "source": [
    "print(modelLinear.summary())"
   ]
  },
  {
   "cell_type": "code",
   "execution_count": 30,
   "id": "1eae6aa4",
   "metadata": {},
   "outputs": [
    {
     "data": {
      "text/plain": [
       "LotArea          8.772432e-02\n",
       "OverallQual      2.212696e-01\n",
       "OverallCond      8.864046e-02\n",
       "YearBuilt        1.707356e-01\n",
       "YearRemodAdd     3.415484e-02\n",
       "BsmtFinSF1       6.997094e-02\n",
       "BsmtUnfSF       -6.366774e-02\n",
       "TotalBsmtSF      1.448018e-01\n",
       "X1stFlrSF        2.178463e-01\n",
       "X2ndFlrSF        2.165004e-01\n",
       "GrLivArea        1.290239e-01\n",
       "FullBath        -1.503776e-02\n",
       "HalfBath        -6.260891e-03\n",
       "BedroomAbvGr    -7.507608e-02\n",
       "TotRmsAbvGrd     3.363446e-02\n",
       "Fireplaces       1.328261e-02\n",
       "GarageCars       2.850572e-02\n",
       "GarageArea       5.824282e-02\n",
       "WoodDeckSF       2.351383e-02\n",
       "OpenPorchSF      1.378557e-02\n",
       "EnclosedPorch    7.485004e-03\n",
       "Blmngtn         -9.893151e+06\n",
       "Blueste         -4.558364e+06\n",
       "BrDale          -1.014731e+07\n",
       "BrkSide         -1.832578e+07\n",
       "ClearCr         -1.279210e+07\n",
       "CollgCr         -2.739309e+07\n",
       "Crawfor         -1.666115e+07\n",
       "Edwards         -2.318812e+07\n",
       "Gilbert         -2.308931e+07\n",
       "IDOTRR          -1.426961e+07\n",
       "MeadowV         -1.039498e+07\n",
       "Mitchel         -1.765414e+07\n",
       "Names           -3.602897e+07\n",
       "NoRidge         -1.543710e+07\n",
       "NPkVill         -9.363237e+06\n",
       "NriddgHt        -2.289002e+07\n",
       "NWAmes          -2.120887e+07\n",
       "OLDTown         -2.567038e+07\n",
       "SWISU           -1.298677e+07\n",
       "Sawyer          -2.076176e+07\n",
       "SawyerW         -1.983033e+07\n",
       "Somerst         -2.424063e+07\n",
       "StoneBr         -1.218805e+07\n",
       "Timber          -1.444278e+07\n",
       "Veenker         -8.800161e+06\n",
       "Bsmt.Qual        3.527318e-02\n",
       "dtype: float64"
      ]
     },
     "execution_count": 30,
     "metadata": {},
     "output_type": "execute_result"
    }
   ],
   "source": [
    "modelLinear.params"
   ]
  },
  {
   "cell_type": "code",
   "execution_count": 31,
   "id": "cb430b9f",
   "metadata": {},
   "outputs": [
    {
     "name": "stdout",
     "output_type": "stream",
     "text": [
      "Test error: 128.14832285054018\n"
     ]
    }
   ],
   "source": [
    "y_predLinear = modelLinear.predict(testhouse.iloc[:, :-1])\n",
    "y_testLinear = testhouse.iloc[:, -1]\n",
    "test_errLinear = sum((y_predLinear - y_testLinear)**2)\n",
    "print(\"Test error:\", test_errLinear) # Test prediction error for linear regression."
   ]
  },
  {
   "cell_type": "markdown",
   "id": "f3e6e84a",
   "metadata": {},
   "source": [
    "(b) Fit a ridge regression, where the tuning parameter λ should be found by crossvalidation over a range of λ=seq(0,0.99,0.01)."
   ]
  },
  {
   "cell_type": "code",
   "execution_count": 32,
   "id": "6e105f98",
   "metadata": {},
   "outputs": [
    {
     "name": "stdout",
     "output_type": "stream",
     "text": [
      "[0.   0.01 0.02 0.03 0.04 0.05 0.06 0.07 0.08 0.09 0.1  0.11 0.12 0.13\n",
      " 0.14 0.15 0.16 0.17 0.18 0.19 0.2  0.21 0.22 0.23 0.24 0.25 0.26 0.27\n",
      " 0.28 0.29 0.3  0.31 0.32 0.33 0.34 0.35 0.36 0.37 0.38 0.39 0.4  0.41\n",
      " 0.42 0.43 0.44 0.45 0.46 0.47 0.48 0.49 0.5  0.51 0.52 0.53 0.54 0.55\n",
      " 0.56 0.57 0.58 0.59 0.6  0.61 0.62 0.63 0.64 0.65 0.66 0.67 0.68 0.69\n",
      " 0.7  0.71 0.72 0.73 0.74 0.75 0.76 0.77 0.78 0.79 0.8  0.81 0.82 0.83\n",
      " 0.84 0.85 0.86 0.87 0.88 0.89 0.9  0.91 0.92 0.93 0.94 0.95 0.96 0.97\n",
      " 0.98 0.99]\n"
     ]
    },
    {
     "data": {
      "image/png": "[encoded data removed]",
      "text/plain": [
       "<Figure size 640x480 with 1 Axes>"
      ]
     },
     "metadata": {},
     "output_type": "display_data"
    }
   ],
   "source": [
    "n,p = X.shape\n",
    "n_points = 100\n",
    "grid = np.arange(0, 1, 0.01) # Get a sequence of tuning parameter λ.\n",
    "sns.scatterplot(x = np.arange(n_points), y = grid)\n",
    "print(grid)"
   ]
  },
  {
   "cell_type": "code",
   "execution_count": 33,
   "id": "c4680be5",
   "metadata": {},
   "outputs": [],
   "source": [
    "from sklearn.linear_model import Ridge\n",
    "from sklearn.model_selection import KFold\n",
    "from sklearn.metrics import mean_squared_error\n",
    "n_folds = 10\n",
    "kf = KFold(n_folds, random_state = 2203441, shuffle = True)\n",
    "kf.get_n_splits(X)\n",
    "\n",
    "# Cross validation\n",
    "mseCVRidge = np.zeros((100, n_folds))\n",
    "f = 0\n",
    "# Fit ridge regression with different λ value according to the sequence we obtained above.\n",
    "for f in range(0,10):\n",
    "    result = next(kf.split(X), None)\n",
    "    X_train, Y_train = X.iloc[result[0]], Y.iloc[result[0]]\n",
    "    X_cv, Y_cv= X.iloc[result[1]], Y.iloc[result[1]]\n",
    "    \n",
    "    for nn, lambda_ in enumerate(grid):\n",
    "        ridge_mod = Ridge(alpha = lambda_, random_state = 2203441, max_iter = 100000)\n",
    "        ridge_mod.fit(X_train, Y_train)\n",
    "        y_pred = ridge_mod.predict(X_cv)\n",
    "        mseCVRidge[nn, f] = mean_squared_error(Y_cv, y_pred)\n",
    "    f += 1"
   ]
  },
  {
   "cell_type": "code",
   "execution_count": 34,
   "id": "1539dcc3",
   "metadata": {},
   "outputs": [
    {
     "name": "stderr",
     "output_type": "stream",
     "text": [
      "C:\\Users\\ymlxl\\AppData\\Local\\Temp\\ipykernel_46724\\844455598.py:1: RuntimeWarning: divide by zero encountered in log\n",
      "  sns.scatterplot(x = np.log(grid), y = mseCVRidge.mean(axis = 1)) # Visualize the result.\n"
     ]
    },
    {
     "data": {
      "text/plain": [
       "Text(0, 0.5, 'Mean squared error')"
      ]
     },
     "execution_count": 34,
     "metadata": {},
     "output_type": "execute_result"
    },
    {
     "data": {
      "image/png": "[encoded data removed]",
      "text/plain": [
       "<Figure size 640x480 with 1 Axes>"
      ]
     },
     "metadata": {},
     "output_type": "display_data"
    }
   ],
   "source": [
    "sns.scatterplot(x = np.log(grid), y = mseCVRidge.mean(axis = 1)) # Visualize the result.\n",
    "plt.xlabel(\"Log lambda\")\n",
    "plt.ylabel(\"Mean squared error\")"
   ]
  },
  {
   "cell_type": "code",
   "execution_count": 35,
   "id": "ba7d6446",
   "metadata": {},
   "outputs": [
    {
     "name": "stdout",
     "output_type": "stream",
     "text": [
      "Best lambda is 0.0\n"
     ]
    }
   ],
   "source": [
    "best_lambdaRidge = grid[np.argmin(mseCVRidge.mean(axis = 1))]\n",
    "print(\"Best lambda is\", best_lambdaRidge)"
   ]
  },
  {
   "cell_type": "code",
   "execution_count": 36,
   "id": "3485d2ab",
   "metadata": {},
   "outputs": [
    {
     "name": "stdout",
     "output_type": "stream",
     "text": [
      "Intercept: -873.765889579526\n"
     ]
    },
    {
     "data": {
      "text/plain": [
       "array([ 8.77243236e-02,  2.22897333e-01,  8.91456645e-02,  1.72419446e-01,\n",
       "        3.01472623e-02,  6.77328935e-02, -6.70587319e-02,  1.49042120e-01,\n",
       "        1.81124602e-01,  1.78453279e-01,  1.77759089e-01, -1.24666870e-02,\n",
       "       -4.83026918e-03, -7.26334572e-02,  2.44102179e-02,  8.52506156e-03,\n",
       "        2.84980674e-02,  6.09547364e-02,  2.45300219e-02,  1.50427534e-02,\n",
       "        9.03206890e-03, -1.01591702e+12, -4.68093529e+11, -1.04201621e+12,\n",
       "       -1.88185500e+12, -1.31360743e+12, -2.81296673e+12, -1.71091540e+12,\n",
       "       -2.38116324e+12, -2.37101624e+12, -1.46533123e+12, -1.06744891e+12,\n",
       "       -1.81288479e+12, -3.69977587e+12, -1.58521934e+12, -9.61500706e+11,\n",
       "       -2.35055189e+12, -2.17791639e+12, -2.63606359e+12, -1.33359734e+12,\n",
       "       -2.13200286e+12, -2.03635483e+12, -2.48924423e+12, -1.25157752e+12,\n",
       "       -1.48311328e+12, -9.03679051e+11,  3.52516315e-02])"
      ]
     },
     "execution_count": 36,
     "metadata": {},
     "output_type": "execute_result"
    }
   ],
   "source": [
    "ridge_mod = Ridge(alpha = best_lambdaRidge, random_state = 2203441, max_iter = 100000)\n",
    "ridge_mod.fit(X, Y)\n",
    "# Re-fit the model with the best λ we have just found.\n",
    "print(\"Intercept:\", ridge_mod.intercept_)\n",
    "ridge_mod.coef_"
   ]
  },
  {
   "cell_type": "code",
   "execution_count": 37,
   "id": "90065305",
   "metadata": {},
   "outputs": [
    {
     "name": "stdout",
     "output_type": "stream",
     "text": [
      "Test error: 128.89259794200532\n"
     ]
    }
   ],
   "source": [
    "y_predRidge = ridge_mod.predict(testhouse.iloc[:, :-1])\n",
    "y_testRidge = testhouse.iloc[:, -1]\n",
    "test_errRidge = sum((y_predRidge - y_testRidge)**2)\n",
    "print(\"Test error:\", test_errRidge) # Test prediction error."
   ]
  },
  {
   "cell_type": "code",
   "execution_count": 38,
   "id": "6b06df3d",
   "metadata": {},
   "outputs": [
    {
     "data": {
      "text/plain": [
       "0.14764329661168998"
      ]
     },
     "execution_count": 38,
     "metadata": {},
     "output_type": "execute_result"
    }
   ],
   "source": [
    "mean_squared_error(y_testRidge, y_predRidge)"
   ]
  },
  {
   "cell_type": "markdown",
   "id": "c4ce220f",
   "metadata": {},
   "source": [
    "(c) Fit a Lasso, where the tuning parameter λ should be found by cross-validation over a range of λ=seq(0,0.99,0.01)."
   ]
  },
  {
   "cell_type": "code",
   "execution_count": 39,
   "id": "ba80f228",
   "metadata": {},
   "outputs": [
    {
     "name": "stderr",
     "output_type": "stream",
     "text": [
      "C:\\Users\\ymlxl\\AppData\\Local\\Temp\\ipykernel_46724\\446310985.py:14: UserWarning: With alpha=0, this algorithm does not converge well. You are advised to use the LinearRegression estimator\n",
      "  lasso_mod.fit(X_train, Y_train)\n",
      "C:\\Users\\ymlxl\\.conda\\envs\\newenvt\\lib\\site-packages\\sklearn\\linear_model\\_coordinate_descent.py:631: UserWarning: Coordinate descent with no regularization may lead to unexpected results and is discouraged.\n",
      "  model = cd_fast.enet_coordinate_descent(\n",
      "C:\\Users\\ymlxl\\.conda\\envs\\newenvt\\lib\\site-packages\\sklearn\\linear_model\\_coordinate_descent.py:631: ConvergenceWarning: Objective did not converge. You might want to increase the number of iterations, check the scale of the features or consider increasing regularisation. Duality gap: 9.031e+01, tolerance: 1.859e-01 Linear regression models with null weight for the l1 regularization term are more efficiently fitted using one of the solvers implemented in sklearn.linear_model.Ridge/RidgeCV instead.\n",
      "  model = cd_fast.enet_coordinate_descent(\n",
      "C:\\Users\\ymlxl\\AppData\\Local\\Temp\\ipykernel_46724\\446310985.py:14: UserWarning: With alpha=0, this algorithm does not converge well. You are advised to use the LinearRegression estimator\n",
      "  lasso_mod.fit(X_train, Y_train)\n",
      "C:\\Users\\ymlxl\\.conda\\envs\\newenvt\\lib\\site-packages\\sklearn\\linear_model\\_coordinate_descent.py:631: UserWarning: Coordinate descent with no regularization may lead to unexpected results and is discouraged.\n",
      "  model = cd_fast.enet_coordinate_descent(\n",
      "C:\\Users\\ymlxl\\.conda\\envs\\newenvt\\lib\\site-packages\\sklearn\\linear_model\\_coordinate_descent.py:631: ConvergenceWarning: Objective did not converge. You might want to increase the number of iterations, check the scale of the features or consider increasing regularisation. Duality gap: 9.031e+01, tolerance: 1.859e-01 Linear regression models with null weight for the l1 regularization term are more efficiently fitted using one of the solvers implemented in sklearn.linear_model.Ridge/RidgeCV instead.\n",
      "  model = cd_fast.enet_coordinate_descent(\n",
      "C:\\Users\\ymlxl\\AppData\\Local\\Temp\\ipykernel_46724\\446310985.py:14: UserWarning: With alpha=0, this algorithm does not converge well. You are advised to use the LinearRegression estimator\n",
      "  lasso_mod.fit(X_train, Y_train)\n",
      "C:\\Users\\ymlxl\\.conda\\envs\\newenvt\\lib\\site-packages\\sklearn\\linear_model\\_coordinate_descent.py:631: UserWarning: Coordinate descent with no regularization may lead to unexpected results and is discouraged.\n",
      "  model = cd_fast.enet_coordinate_descent(\n",
      "C:\\Users\\ymlxl\\.conda\\envs\\newenvt\\lib\\site-packages\\sklearn\\linear_model\\_coordinate_descent.py:631: ConvergenceWarning: Objective did not converge. You might want to increase the number of iterations, check the scale of the features or consider increasing regularisation. Duality gap: 9.031e+01, tolerance: 1.859e-01 Linear regression models with null weight for the l1 regularization term are more efficiently fitted using one of the solvers implemented in sklearn.linear_model.Ridge/RidgeCV instead.\n",
      "  model = cd_fast.enet_coordinate_descent(\n",
      "C:\\Users\\ymlxl\\AppData\\Local\\Temp\\ipykernel_46724\\446310985.py:14: UserWarning: With alpha=0, this algorithm does not converge well. You are advised to use the LinearRegression estimator\n",
      "  lasso_mod.fit(X_train, Y_train)\n",
      "C:\\Users\\ymlxl\\.conda\\envs\\newenvt\\lib\\site-packages\\sklearn\\linear_model\\_coordinate_descent.py:631: UserWarning: Coordinate descent with no regularization may lead to unexpected results and is discouraged.\n",
      "  model = cd_fast.enet_coordinate_descent(\n",
      "C:\\Users\\ymlxl\\.conda\\envs\\newenvt\\lib\\site-packages\\sklearn\\linear_model\\_coordinate_descent.py:631: ConvergenceWarning: Objective did not converge. You might want to increase the number of iterations, check the scale of the features or consider increasing regularisation. Duality gap: 9.031e+01, tolerance: 1.859e-01 Linear regression models with null weight for the l1 regularization term are more efficiently fitted using one of the solvers implemented in sklearn.linear_model.Ridge/RidgeCV instead.\n",
      "  model = cd_fast.enet_coordinate_descent(\n",
      "C:\\Users\\ymlxl\\AppData\\Local\\Temp\\ipykernel_46724\\446310985.py:14: UserWarning: With alpha=0, this algorithm does not converge well. You are advised to use the LinearRegression estimator\n",
      "  lasso_mod.fit(X_train, Y_train)\n",
      "C:\\Users\\ymlxl\\.conda\\envs\\newenvt\\lib\\site-packages\\sklearn\\linear_model\\_coordinate_descent.py:631: UserWarning: Coordinate descent with no regularization may lead to unexpected results and is discouraged.\n",
      "  model = cd_fast.enet_coordinate_descent(\n",
      "C:\\Users\\ymlxl\\.conda\\envs\\newenvt\\lib\\site-packages\\sklearn\\linear_model\\_coordinate_descent.py:631: ConvergenceWarning: Objective did not converge. You might want to increase the number of iterations, check the scale of the features or consider increasing regularisation. Duality gap: 9.031e+01, tolerance: 1.859e-01 Linear regression models with null weight for the l1 regularization term are more efficiently fitted using one of the solvers implemented in sklearn.linear_model.Ridge/RidgeCV instead.\n",
      "  model = cd_fast.enet_coordinate_descent(\n",
      "C:\\Users\\ymlxl\\AppData\\Local\\Temp\\ipykernel_46724\\446310985.py:14: UserWarning: With alpha=0, this algorithm does not converge well. You are advised to use the LinearRegression estimator\n",
      "  lasso_mod.fit(X_train, Y_train)\n",
      "C:\\Users\\ymlxl\\.conda\\envs\\newenvt\\lib\\site-packages\\sklearn\\linear_model\\_coordinate_descent.py:631: UserWarning: Coordinate descent with no regularization may lead to unexpected results and is discouraged.\n",
      "  model = cd_fast.enet_coordinate_descent(\n",
      "C:\\Users\\ymlxl\\.conda\\envs\\newenvt\\lib\\site-packages\\sklearn\\linear_model\\_coordinate_descent.py:631: ConvergenceWarning: Objective did not converge. You might want to increase the number of iterations, check the scale of the features or consider increasing regularisation. Duality gap: 9.031e+01, tolerance: 1.859e-01 Linear regression models with null weight for the l1 regularization term are more efficiently fitted using one of the solvers implemented in sklearn.linear_model.Ridge/RidgeCV instead.\n",
      "  model = cd_fast.enet_coordinate_descent(\n",
      "C:\\Users\\ymlxl\\AppData\\Local\\Temp\\ipykernel_46724\\446310985.py:14: UserWarning: With alpha=0, this algorithm does not converge well. You are advised to use the LinearRegression estimator\n",
      "  lasso_mod.fit(X_train, Y_train)\n",
      "C:\\Users\\ymlxl\\.conda\\envs\\newenvt\\lib\\site-packages\\sklearn\\linear_model\\_coordinate_descent.py:631: UserWarning: Coordinate descent with no regularization may lead to unexpected results and is discouraged.\n",
      "  model = cd_fast.enet_coordinate_descent(\n",
      "C:\\Users\\ymlxl\\.conda\\envs\\newenvt\\lib\\site-packages\\sklearn\\linear_model\\_coordinate_descent.py:631: ConvergenceWarning: Objective did not converge. You might want to increase the number of iterations, check the scale of the features or consider increasing regularisation. Duality gap: 9.031e+01, tolerance: 1.859e-01 Linear regression models with null weight for the l1 regularization term are more efficiently fitted using one of the solvers implemented in sklearn.linear_model.Ridge/RidgeCV instead.\n",
      "  model = cd_fast.enet_coordinate_descent(\n",
      "C:\\Users\\ymlxl\\AppData\\Local\\Temp\\ipykernel_46724\\446310985.py:14: UserWarning: With alpha=0, this algorithm does not converge well. You are advised to use the LinearRegression estimator\n",
      "  lasso_mod.fit(X_train, Y_train)\n",
      "C:\\Users\\ymlxl\\.conda\\envs\\newenvt\\lib\\site-packages\\sklearn\\linear_model\\_coordinate_descent.py:631: UserWarning: Coordinate descent with no regularization may lead to unexpected results and is discouraged.\n",
      "  model = cd_fast.enet_coordinate_descent(\n",
      "C:\\Users\\ymlxl\\.conda\\envs\\newenvt\\lib\\site-packages\\sklearn\\linear_model\\_coordinate_descent.py:631: ConvergenceWarning: Objective did not converge. You might want to increase the number of iterations, check the scale of the features or consider increasing regularisation. Duality gap: 9.031e+01, tolerance: 1.859e-01 Linear regression models with null weight for the l1 regularization term are more efficiently fitted using one of the solvers implemented in sklearn.linear_model.Ridge/RidgeCV instead.\n",
      "  model = cd_fast.enet_coordinate_descent(\n",
      "C:\\Users\\ymlxl\\AppData\\Local\\Temp\\ipykernel_46724\\446310985.py:14: UserWarning: With alpha=0, this algorithm does not converge well. You are advised to use the LinearRegression estimator\n",
      "  lasso_mod.fit(X_train, Y_train)\n",
      "C:\\Users\\ymlxl\\.conda\\envs\\newenvt\\lib\\site-packages\\sklearn\\linear_model\\_coordinate_descent.py:631: UserWarning: Coordinate descent with no regularization may lead to unexpected results and is discouraged.\n",
      "  model = cd_fast.enet_coordinate_descent(\n"
     ]
    },
    {
     "name": "stderr",
     "output_type": "stream",
     "text": [
      "C:\\Users\\ymlxl\\.conda\\envs\\newenvt\\lib\\site-packages\\sklearn\\linear_model\\_coordinate_descent.py:631: ConvergenceWarning: Objective did not converge. You might want to increase the number of iterations, check the scale of the features or consider increasing regularisation. Duality gap: 9.031e+01, tolerance: 1.859e-01 Linear regression models with null weight for the l1 regularization term are more efficiently fitted using one of the solvers implemented in sklearn.linear_model.Ridge/RidgeCV instead.\n",
      "  model = cd_fast.enet_coordinate_descent(\n",
      "C:\\Users\\ymlxl\\AppData\\Local\\Temp\\ipykernel_46724\\446310985.py:14: UserWarning: With alpha=0, this algorithm does not converge well. You are advised to use the LinearRegression estimator\n",
      "  lasso_mod.fit(X_train, Y_train)\n",
      "C:\\Users\\ymlxl\\.conda\\envs\\newenvt\\lib\\site-packages\\sklearn\\linear_model\\_coordinate_descent.py:631: UserWarning: Coordinate descent with no regularization may lead to unexpected results and is discouraged.\n",
      "  model = cd_fast.enet_coordinate_descent(\n",
      "C:\\Users\\ymlxl\\.conda\\envs\\newenvt\\lib\\site-packages\\sklearn\\linear_model\\_coordinate_descent.py:631: ConvergenceWarning: Objective did not converge. You might want to increase the number of iterations, check the scale of the features or consider increasing regularisation. Duality gap: 9.031e+01, tolerance: 1.859e-01 Linear regression models with null weight for the l1 regularization term are more efficiently fitted using one of the solvers implemented in sklearn.linear_model.Ridge/RidgeCV instead.\n",
      "  model = cd_fast.enet_coordinate_descent(\n"
     ]
    }
   ],
   "source": [
    "from sklearn.linear_model import Lasso\n",
    "\n",
    "# Cross validation\n",
    "mseCVLasso = np.zeros((100, n_folds))\n",
    "f = 0\n",
    "# Fit a Lasso.\n",
    "for f in range(0,10):\n",
    "    result = next(kf.split(X), None)\n",
    "    X_train, Y_train = X.iloc[result[0]], Y.iloc[result[0]]\n",
    "    X_cv, Y_cv= X.iloc[result[1]], Y.iloc[result[1]]\n",
    "    \n",
    "    for nn, lambda_ in enumerate(grid):\n",
    "        lasso_mod = Lasso(alpha = lambda_, random_state = 2203441, max_iter = 100000)\n",
    "        lasso_mod.fit(X_train, Y_train)\n",
    "        y_pred = lasso_mod.predict(X_cv)\n",
    "        mseCVLasso[nn, f] = mean_squared_error(Y_cv, y_pred)\n",
    "    f += 1"
   ]
  },
  {
   "cell_type": "code",
   "execution_count": 40,
   "id": "ff2f8c23",
   "metadata": {},
   "outputs": [
    {
     "name": "stderr",
     "output_type": "stream",
     "text": [
      "C:\\Users\\ymlxl\\AppData\\Local\\Temp\\ipykernel_46724\\2899304924.py:1: RuntimeWarning: divide by zero encountered in log\n",
      "  sns.scatterplot(x = np.log(grid), y = mseCVLasso.mean(axis = 1)) # Visualize the result.\n"
     ]
    },
    {
     "data": {
      "text/plain": [
       "Text(0, 0.5, 'Mean squared error')"
      ]
     },
     "execution_count": 40,
     "metadata": {},
     "output_type": "execute_result"
    },
    {
     "data": {
      "image/png": "[encoded data removed]",
      "text/plain": [
       "<Figure size 640x480 with 1 Axes>"
      ]
     },
     "metadata": {},
     "output_type": "display_data"
    }
   ],
   "source": [
    "sns.scatterplot(x = np.log(grid), y = mseCVLasso.mean(axis = 1)) # Visualize the result.\n",
    "plt.xlabel(\"Log lambda\")\n",
    "plt.ylabel(\"Mean squared error\")"
   ]
  },
  {
   "cell_type": "code",
   "execution_count": 41,
   "id": "19d96d88",
   "metadata": {},
   "outputs": [
    {
     "name": "stdout",
     "output_type": "stream",
     "text": [
      "Best lambda is 0.0\n"
     ]
    }
   ],
   "source": [
    "best_lambdaLasso = grid[np.argmin(mseCVLasso.mean(axis = 1))]\n",
    "print(\"Best lambda is\", best_lambdaLasso)"
   ]
  },
  {
   "cell_type": "code",
   "execution_count": 42,
   "id": "9507d34e",
   "metadata": {},
   "outputs": [
    {
     "name": "stderr",
     "output_type": "stream",
     "text": [
      "C:\\Users\\ymlxl\\AppData\\Local\\Temp\\ipykernel_46724\\49591633.py:2: UserWarning: With alpha=0, this algorithm does not converge well. You are advised to use the LinearRegression estimator\n",
      "  lasso_mod.fit(X, Y)\n",
      "C:\\Users\\ymlxl\\.conda\\envs\\newenvt\\lib\\site-packages\\sklearn\\linear_model\\_coordinate_descent.py:631: UserWarning: Coordinate descent with no regularization may lead to unexpected results and is discouraged.\n",
      "  model = cd_fast.enet_coordinate_descent(\n"
     ]
    },
    {
     "name": "stdout",
     "output_type": "stream",
     "text": [
      "Intercept: 0.008508988856429056\n"
     ]
    },
    {
     "name": "stderr",
     "output_type": "stream",
     "text": [
      "C:\\Users\\ymlxl\\.conda\\envs\\newenvt\\lib\\site-packages\\sklearn\\linear_model\\_coordinate_descent.py:631: ConvergenceWarning: Objective did not converge. You might want to increase the number of iterations, check the scale of the features or consider increasing regularisation. Duality gap: 1.030e+02, tolerance: 2.035e-01 Linear regression models with null weight for the l1 regularization term are more efficiently fitted using one of the solvers implemented in sklearn.linear_model.Ridge/RidgeCV instead.\n",
      "  model = cd_fast.enet_coordinate_descent(\n"
     ]
    },
    {
     "data": {
      "text/plain": [
       "array([ 0.08772432,  0.22126957,  0.08864046,  0.17073558,  0.03415485,\n",
       "        0.06997095, -0.06366774,  0.14480181,  0.21784625,  0.21650039,\n",
       "        0.12902392, -0.01503775, -0.00626087, -0.07507607,  0.03363445,\n",
       "        0.01328263,  0.02850573,  0.05824284,  0.02351382,  0.01378559,\n",
       "        0.00748499, -0.02133453, -0.01229846, -0.02235641,  0.02271839,\n",
       "       -0.01392315, -0.01876411,  0.04199388, -0.00595432, -0.01413351,\n",
       "        0.00638473, -0.01647329, -0.03233057, -0.03442187,  0.06204631,\n",
       "       -0.02347854,  0.10638464, -0.04800728, -0.02283908, -0.00419754,\n",
       "       -0.01480164, -0.0358292 ,  0.02212165,  0.05177773, -0.00062504,\n",
       "       -0.00331503,  0.03527319])"
      ]
     },
     "execution_count": 42,
     "metadata": {},
     "output_type": "execute_result"
    }
   ],
   "source": [
    "lasso_mod = Lasso(alpha = best_lambdaLasso, random_state = 2203441, max_iter = 100000)\n",
    "lasso_mod.fit(X, Y)\n",
    "\n",
    "print(\"Intercept:\", lasso_mod.intercept_)\n",
    "lasso_mod.coef_"
   ]
  },
  {
   "cell_type": "code",
   "execution_count": 43,
   "id": "6dba3252",
   "metadata": {},
   "outputs": [
    {
     "name": "stdout",
     "output_type": "stream",
     "text": [
      "Test error: 128.1483180747519\n"
     ]
    }
   ],
   "source": [
    "y_predLasso = lasso_mod.predict(testhouse.iloc[:, :-1])\n",
    "y_testLasso = testhouse.iloc[:, -1]\n",
    "test_errLasso = sum((y_predLasso - y_testLasso)**2)\n",
    "print(\"Test error:\", test_errLasso) # Test prediction error."
   ]
  },
  {
   "cell_type": "markdown",
   "id": "0745ec7d",
   "metadata": {},
   "source": [
    "Question 5 Preprocessing"
   ]
  },
  {
   "cell_type": "code",
   "execution_count": 44,
   "id": "1f8ab97d",
   "metadata": {},
   "outputs": [
    {
     "data": {
      "text/html": [
       "<div>\n",
       "<style scoped>\n",
       "    .dataframe tbody tr th:only-of-type {\n",
       "        vertical-align: middle;\n",
       "    }\n",
       "\n",
       "    .dataframe tbody tr th {\n",
       "        vertical-align: top;\n",
       "    }\n",
       "\n",
       "    .dataframe thead th {\n",
       "        text-align: right;\n",
       "    }\n",
       "</style>\n",
       "<table border=\"1\" class=\"dataframe\">\n",
       "  <thead>\n",
       "    <tr style=\"text-align: right;\">\n",
       "      <th></th>\n",
       "      <th>mpg</th>\n",
       "      <th>cylinders</th>\n",
       "      <th>displacement</th>\n",
       "      <th>horsepower</th>\n",
       "      <th>weight</th>\n",
       "      <th>acceleration</th>\n",
       "      <th>year</th>\n",
       "      <th>origin</th>\n",
       "    </tr>\n",
       "  </thead>\n",
       "  <tbody>\n",
       "    <tr>\n",
       "      <th>0</th>\n",
       "      <td>High</td>\n",
       "      <td>4</td>\n",
       "      <td>156.0</td>\n",
       "      <td>105</td>\n",
       "      <td>2800</td>\n",
       "      <td>14.4</td>\n",
       "      <td>80</td>\n",
       "      <td>1</td>\n",
       "    </tr>\n",
       "    <tr>\n",
       "      <th>1</th>\n",
       "      <td>Low</td>\n",
       "      <td>8</td>\n",
       "      <td>318.0</td>\n",
       "      <td>150</td>\n",
       "      <td>3940</td>\n",
       "      <td>13.2</td>\n",
       "      <td>76</td>\n",
       "      <td>1</td>\n",
       "    </tr>\n",
       "    <tr>\n",
       "      <th>2</th>\n",
       "      <td>High</td>\n",
       "      <td>4</td>\n",
       "      <td>121.0</td>\n",
       "      <td>80</td>\n",
       "      <td>2670</td>\n",
       "      <td>15.0</td>\n",
       "      <td>79</td>\n",
       "      <td>1</td>\n",
       "    </tr>\n",
       "    <tr>\n",
       "      <th>3</th>\n",
       "      <td>High</td>\n",
       "      <td>4</td>\n",
       "      <td>111.0</td>\n",
       "      <td>80</td>\n",
       "      <td>2155</td>\n",
       "      <td>14.8</td>\n",
       "      <td>77</td>\n",
       "      <td>1</td>\n",
       "    </tr>\n",
       "    <tr>\n",
       "      <th>4</th>\n",
       "      <td>Low</td>\n",
       "      <td>6</td>\n",
       "      <td>258.0</td>\n",
       "      <td>120</td>\n",
       "      <td>3410</td>\n",
       "      <td>15.1</td>\n",
       "      <td>78</td>\n",
       "      <td>1</td>\n",
       "    </tr>\n",
       "  </tbody>\n",
       "</table>\n",
       "</div>"
      ],
      "text/plain": [
       "    mpg  cylinders  displacement  horsepower  weight  acceleration  year  \\\n",
       "0  High          4         156.0         105    2800          14.4    80   \n",
       "1   Low          8         318.0         150    3940          13.2    76   \n",
       "2  High          4         121.0          80    2670          15.0    79   \n",
       "3  High          4         111.0          80    2155          14.8    77   \n",
       "4   Low          6         258.0         120    3410          15.1    78   \n",
       "\n",
       "   origin  \n",
       "0       1  \n",
       "1       1  \n",
       "2       1  \n",
       "3       1  \n",
       "4       1  "
      ]
     },
     "execution_count": 44,
     "metadata": {},
     "output_type": "execute_result"
    }
   ],
   "source": [
    "autotrain = pd.read_csv(\"Auto.train.csv\")\n",
    "autotest = pd.read_csv(\"Auto.test.csv\")\n",
    "autotrain.head()"
   ]
  },
  {
   "cell_type": "code",
   "execution_count": 45,
   "id": "a8be787f",
   "metadata": {},
   "outputs": [],
   "source": [
    "X_autotrain = autotrain.iloc[:,1:8]\n",
    "Y_autotrain = autotrain[\"mpg\"]\n",
    "X_autotest = autotest.iloc[:,1:8]\n",
    "Y_autotest = autotest[\"mpg\"]"
   ]
  },
  {
   "cell_type": "code",
   "execution_count": 46,
   "id": "dde8cc4e",
   "metadata": {},
   "outputs": [
    {
     "data": {
      "text/plain": [
       "Index(['cylinders', 'displacement', 'horsepower', 'weight', 'acceleration',\n",
       "       'year', 'origin'],\n",
       "      dtype='object')"
      ]
     },
     "execution_count": 46,
     "metadata": {},
     "output_type": "execute_result"
    }
   ],
   "source": [
    "X_autotrain.columns"
   ]
  },
  {
   "cell_type": "code",
   "execution_count": 47,
   "id": "71b6a115",
   "metadata": {},
   "outputs": [
    {
     "name": "stdout",
     "output_type": "stream",
     "text": [
      "<class 'pandas.core.frame.DataFrame'>\n",
      "RangeIndex: 353 entries, 0 to 352\n",
      "Data columns (total 7 columns):\n",
      " #   Column        Non-Null Count  Dtype  \n",
      "---  ------        --------------  -----  \n",
      " 0   cylinders     353 non-null    int64  \n",
      " 1   displacement  353 non-null    float64\n",
      " 2   horsepower    353 non-null    int64  \n",
      " 3   weight        353 non-null    int64  \n",
      " 4   acceleration  353 non-null    float64\n",
      " 5   year          353 non-null    int64  \n",
      " 6   origin        353 non-null    int64  \n",
      "dtypes: float64(2), int64(5)\n",
      "memory usage: 19.4 KB\n"
     ]
    }
   ],
   "source": [
    "X_autotrain.info()"
   ]
  },
  {
   "cell_type": "markdown",
   "id": "c489efef",
   "metadata": {},
   "source": [
    "(a) Fit a logistic regression."
   ]
  },
  {
   "cell_type": "code",
   "execution_count": 48,
   "id": "696ee588",
   "metadata": {},
   "outputs": [
    {
     "name": "stdout",
     "output_type": "stream",
     "text": [
      "                     Generalized Linear Model Regression Results                     \n",
      "=====================================================================================\n",
      "Dep. Variable:     ['mpg[High]', 'mpg[Low]']   No. Observations:                  353\n",
      "Model:                                   GLM   Df Residuals:                      345\n",
      "Model Family:                       Binomial   Df Model:                            7\n",
      "Link Function:                         Logit   Scale:                          1.0000\n",
      "Method:                                 IRLS   Log-Likelihood:                -69.531\n",
      "Date:                       Sun, 09 Apr 2023   Deviance:                       139.06\n",
      "Time:                               20:05:21   Pearson chi2:                     331.\n",
      "No. Iterations:                            8   Pseudo R-squ. (CS):             0.6292\n",
      "Covariance Type:                   nonrobust                                         \n",
      "================================================================================\n",
      "                   coef    std err          z      P>|z|      [0.025      0.975]\n",
      "--------------------------------------------------------------------------------\n",
      "Intercept      -16.9076      6.188     -2.732      0.006     -29.037      -4.778\n",
      "cylinders       -0.2056      0.452     -0.455      0.649      -1.091       0.680\n",
      "displacement     0.0006      0.013      0.048      0.962      -0.024       0.025\n",
      "horsepower      -0.0404      0.025     -1.606      0.108      -0.090       0.009\n",
      "weight          -0.0042      0.001     -3.592      0.000      -0.006      -0.002\n",
      "acceleration     0.0151      0.152      0.099      0.921      -0.283       0.313\n",
      "year             0.4278      0.078      5.484      0.000       0.275       0.581\n",
      "origin           0.3732      0.390      0.957      0.338      -0.391       1.138\n",
      "================================================================================\n"
     ]
    }
   ],
   "source": [
    "import statsmodels.api as sm\n",
    "import statsmodels.formula.api as smf\n",
    "# Fit with training data.\n",
    "glm_fit = smf.glm(\"mpg~cylinders + displacement + horsepower + weight + acceleration + year + origin\", data = autotrain, family=sm.families.Binomial()).fit()\n",
    "print(glm_fit.summary())"
   ]
  },
  {
   "cell_type": "code",
   "execution_count": 49,
   "id": "4d3c2272",
   "metadata": {},
   "outputs": [
    {
     "data": {
      "text/plain": [
       "0    8.850214e-07\n",
       "1    7.627044e-01\n",
       "2    4.529273e-07\n",
       "3    7.121570e-01\n",
       "4    1.277095e-02\n",
       "5    2.454810e-02\n",
       "6    6.367776e-01\n",
       "7    9.831423e-01\n",
       "8    7.314102e-01\n",
       "9    8.807089e-05\n",
       "dtype: float64"
      ]
     },
     "execution_count": 49,
     "metadata": {},
     "output_type": "execute_result"
    }
   ],
   "source": [
    "glm_prob = glm_fit.predict(autotest) # Get the predictions on test data set.\n",
    "glm_prob[:10]"
   ]
  },
  {
   "cell_type": "code",
   "execution_count": 50,
   "id": "f018f108",
   "metadata": {},
   "outputs": [],
   "source": [
    "glm_pred = np.repeat(\"High\", len(glm_prob)) # Map the result to a string (Categorical data).\n",
    "glm_pred[glm_prob < 0.5] = \"Low\"\n",
    "y_true = autotest[\"mpg\"].values"
   ]
  },
  {
   "cell_type": "code",
   "execution_count": 51,
   "id": "b731ce85",
   "metadata": {},
   "outputs": [
    {
     "data": {
      "text/plain": [
       "array([[20,  3],\n",
       "       [ 2, 14]], dtype=int64)"
      ]
     },
     "execution_count": 51,
     "metadata": {},
     "output_type": "execute_result"
    }
   ],
   "source": [
    "from sklearn.metrics import confusion_matrix\n",
    "confusion_matrix(y_true, glm_pred).T #  Compute the confusion matrix."
   ]
  },
  {
   "cell_type": "code",
   "execution_count": 52,
   "id": "eb69a6c9",
   "metadata": {},
   "outputs": [
    {
     "data": {
      "text/plain": [
       "0.8717948717948718"
      ]
     },
     "execution_count": 52,
     "metadata": {},
     "output_type": "execute_result"
    }
   ],
   "source": [
    "(glm_pred == y_true).mean() #  Compute the overall fraction of correct predictions for the test data."
   ]
  },
  {
   "cell_type": "markdown",
   "id": "0292d4e5",
   "metadata": {},
   "source": [
    "(b) Fit a tree with pruning."
   ]
  },
  {
   "cell_type": "code",
   "execution_count": 53,
   "id": "c832677a",
   "metadata": {},
   "outputs": [
    {
     "data": {
      "text/plain": [
       "10"
      ]
     },
     "execution_count": 53,
     "metadata": {},
     "output_type": "execute_result"
    }
   ],
   "source": [
    "n_folds = 10 # Prepare for cross validation.\n",
    "kf = KFold(n_folds, random_state = 2203441, shuffle = True)\n",
    "kf.get_n_splits(X_autotrain)"
   ]
  },
  {
   "cell_type": "code",
   "execution_count": 54,
   "id": "e6a83b40",
   "metadata": {},
   "outputs": [
    {
     "name": "stdout",
     "output_type": "stream",
     "text": [
      "Variables actually used in tree construction:\n",
      " ['displacement', 'horsepower', 'weight', 'acceleration', 'year']\n",
      "Misclassification error rate: 0.028328611898016998 = 10/353\n"
     ]
    }
   ],
   "source": [
    "from sklearn.tree import DecisionTreeClassifier\n",
    "tree_class = DecisionTreeClassifier(random_state = 2203441, max_leaf_nodes = 13)\n",
    "tree_class.fit(X_autotrain, Y_autotrain)\n",
    "y_pred = tree_class.predict(X_autotrain)\n",
    "# Build a basic regression tree without using cross validation.\n",
    "features = X_autotrain.columns\n",
    "feature_importance = tree_class.feature_importances_\n",
    "print(\"Variables actually used in tree construction:\\n\", list(features[feature_importance != 0]))\n",
    "print(\"Misclassification error rate: %s = %s/%s\" %((y_pred != Y_autotrain).sum()/len(Y_autotrain), (y_pred != Y_autotrain).sum(), len(Y_autotrain)))"
   ]
  },
  {
   "cell_type": "code",
   "execution_count": 55,
   "id": "17f52303",
   "metadata": {},
   "outputs": [
    {
     "data": {
      "text/plain": [
       "[Text(0.6153846153846154, 0.95, 'displacement <= 190.5\\ngini = 0.5\\nsamples = 100.0%\\nvalue = [0.493, 0.507]'),\n",
       " Text(0.46153846153846156, 0.85, 'horsepower <= 84.5\\ngini = 0.244\\nsamples = 55.8%\\nvalue = [0.858, 0.142]'),\n",
       " Text(0.38461538461538464, 0.75, 'gini = 0.034\\nsamples = 32.6%\\nvalue = [0.983, 0.017]'),\n",
       " Text(0.5384615384615384, 0.75, 'year <= 78.5\\ngini = 0.433\\nsamples = 23.2%\\nvalue = [0.683, 0.317]'),\n",
       " Text(0.46153846153846156, 0.65, 'weight <= 2775.0\\ngini = 0.498\\nsamples = 15.0%\\nvalue = [0.528, 0.472]'),\n",
       " Text(0.3076923076923077, 0.55, 'displacement <= 88.5\\ngini = 0.432\\nsamples = 10.8%\\nvalue = [0.684, 0.316]'),\n",
       " Text(0.23076923076923078, 0.45, 'gini = 0.0\\nsamples = 0.8%\\nvalue = [0.0, 1.0]'),\n",
       " Text(0.38461538461538464, 0.45, 'acceleration <= 18.0\\ngini = 0.382\\nsamples = 9.9%\\nvalue = [0.743, 0.257]'),\n",
       " Text(0.3076923076923077, 0.35, 'acceleration <= 14.1\\ngini = 0.305\\nsamples = 9.1%\\nvalue = [0.812, 0.188]'),\n",
       " Text(0.23076923076923078, 0.25, 'horsepower <= 111.5\\ngini = 0.5\\nsamples = 1.7%\\nvalue = [0.5, 0.5]'),\n",
       " Text(0.15384615384615385, 0.15, 'weight <= 2297.5\\ngini = 0.375\\nsamples = 1.1%\\nvalue = [0.25, 0.75]'),\n",
       " Text(0.07692307692307693, 0.05, 'gini = 0.0\\nsamples = 0.3%\\nvalue = [1.0, 0.0]'),\n",
       " Text(0.23076923076923078, 0.05, 'gini = 0.0\\nsamples = 0.8%\\nvalue = [0.0, 1.0]'),\n",
       " Text(0.3076923076923077, 0.15, 'gini = 0.0\\nsamples = 0.6%\\nvalue = [1.0, 0.0]'),\n",
       " Text(0.38461538461538464, 0.25, 'gini = 0.204\\nsamples = 7.4%\\nvalue = [0.885, 0.115]'),\n",
       " Text(0.46153846153846156, 0.35, 'gini = 0.0\\nsamples = 0.8%\\nvalue = [0.0, 1.0]'),\n",
       " Text(0.6153846153846154, 0.55, 'horsepower <= 86.0\\ngini = 0.231\\nsamples = 4.2%\\nvalue = [0.133, 0.867]'),\n",
       " Text(0.5384615384615384, 0.45, 'gini = 0.0\\nsamples = 0.3%\\nvalue = [1.0, 0.0]'),\n",
       " Text(0.6923076923076923, 0.45, 'gini = 0.133\\nsamples = 4.0%\\nvalue = [0.071, 0.929]'),\n",
       " Text(0.6153846153846154, 0.65, 'gini = 0.067\\nsamples = 8.2%\\nvalue = [0.966, 0.034]'),\n",
       " Text(0.7692307692307693, 0.85, 'year <= 80.5\\ngini = 0.062\\nsamples = 44.2%\\nvalue = [0.032, 0.968]'),\n",
       " Text(0.6923076923076923, 0.75, 'gini = 0.039\\nsamples = 42.5%\\nvalue = [0.02, 0.98]'),\n",
       " Text(0.8461538461538461, 0.75, 'displacement <= 247.0\\ngini = 0.444\\nsamples = 1.7%\\nvalue = [0.333, 0.667]'),\n",
       " Text(0.7692307692307693, 0.65, 'gini = 0.0\\nsamples = 1.1%\\nvalue = [0.0, 1.0]'),\n",
       " Text(0.9230769230769231, 0.65, 'gini = 0.0\\nsamples = 0.6%\\nvalue = [1.0, 0.0]')]"
      ]
     },
     "execution_count": 55,
     "metadata": {},
     "output_type": "execute_result"
    },
    {
     "data": {
      "image/png": "[encoded data removed]",
      "text/plain": [
       "<Figure size 1500x1500 with 1 Axes>"
      ]
     },
     "metadata": {},
     "output_type": "display_data"
    }
   ],
   "source": [
    "from sklearn.tree import plot_tree\n",
    "plt.figure(figsize = (15,15)) # Plot the basic regression tree.\n",
    "plot_tree(tree_class, feature_names = features, proportion = True)"
   ]
  },
  {
   "cell_type": "code",
   "execution_count": 56,
   "id": "80878e7b",
   "metadata": {},
   "outputs": [],
   "source": [
    "# Cross validation: Use this method to find the best number of terminal nodes.\n",
    "terminal_nodes = [1,2,3,4,5,6,7,8,9,10,11,12,13,14,15,16,17,18,19,20]\n",
    "n_nodes = len(terminal_nodes)\n",
    "ErrCVTree = np.zeros((n_nodes, n_folds))\n",
    "f = 0\n",
    "\n",
    "for f in range(0,10):\n",
    "    result = next(kf.split(X_autotrain), None)\n",
    "    X_train, Y_train = X_autotrain.iloc[result[0]], Y_autotrain.iloc[result[0]]\n",
    "    X_cv, Y_cv= X_autotrain.iloc[result[1]], Y_autotrain.iloc[result[1]]\n",
    "\n",
    "    for nn, node in enumerate(terminal_nodes):\n",
    "        try:\n",
    "            tree_class = DecisionTreeClassifier(random_state = nn, max_leaf_nodes = node)\n",
    "            tree_class.fit(X_train, Y_train)\n",
    "            y_pred = tree_class.predict(X_cv)\n",
    "            ErrCVTree[nn, f] = (y_pred != Y_cv).mean()\n",
    "        except:\n",
    "            ErrCVTree[nn, f] = 1\n",
    "    f += 1\n",
    "ErrCVTree = ErrCVTree.mean(axis = 1)"
   ]
  },
  {
   "cell_type": "code",
   "execution_count": 57,
   "id": "6646b2ae",
   "metadata": {},
   "outputs": [
    {
     "data": {
      "text/plain": [
       "Text(0, 0.5, 'Misclassification error')"
      ]
     },
     "execution_count": 57,
     "metadata": {},
     "output_type": "execute_result"
    },
    {
     "data": {
      "image/png": "[encoded data removed]",
      "text/plain": [
       "<Figure size 640x480 with 1 Axes>"
      ]
     },
     "metadata": {},
     "output_type": "display_data"
    }
   ],
   "source": [
    "# Plot average CV error\n",
    "sns.lineplot(x = terminal_nodes, y = ErrCVTree)\n",
    "plt.xlabel(\"No of terminal nodes\")\n",
    "plt.ylabel(\"Misclassification error\")"
   ]
  },
  {
   "cell_type": "code",
   "execution_count": 58,
   "id": "7c930ed7",
   "metadata": {},
   "outputs": [
    {
     "data": {
      "text/plain": [
       "5"
      ]
     },
     "execution_count": 58,
     "metadata": {},
     "output_type": "execute_result"
    }
   ],
   "source": [
    "idx = np.argmin(ErrCVTree) # Find the optimal number of nodes.\n",
    "cv_max_nodes = terminal_nodes[idx]\n",
    "cv_max_nodes"
   ]
  },
  {
   "cell_type": "code",
   "execution_count": 59,
   "id": "328393c3",
   "metadata": {},
   "outputs": [
    {
     "data": {
      "text/plain": [
       "array([[21,  1],\n",
       "       [ 2, 15]], dtype=int64)"
      ]
     },
     "execution_count": 59,
     "metadata": {},
     "output_type": "execute_result"
    }
   ],
   "source": [
    "prune_tree_class = DecisionTreeClassifier(random_state = idx, max_leaf_nodes = cv_max_nodes)\n",
    "prune_tree_class.fit(X_autotrain, Y_autotrain)\n",
    "y_pred = prune_tree_class.predict(X_autotest)\n",
    "# Re-fit the model with pruning and directly get predictions on testing data.\n",
    "from sklearn.metrics import confusion_matrix\n",
    "confusion_matrix(Y_autotest, y_pred) # Compute the confusion matrix."
   ]
  },
  {
   "cell_type": "code",
   "execution_count": 60,
   "id": "fdc77b41",
   "metadata": {},
   "outputs": [
    {
     "data": {
      "text/plain": [
       "0.9230769230769231"
      ]
     },
     "execution_count": 60,
     "metadata": {},
     "output_type": "execute_result"
    }
   ],
   "source": [
    "(y_pred == Y_autotest).mean() #  Compute the overall fraction of correct predictions for the test data."
   ]
  },
  {
   "cell_type": "markdown",
   "id": "567172cb",
   "metadata": {},
   "source": [
    "(c) Apply random forests with 500 bootstrapped trees and m =√p, where p is the number of predictors."
   ]
  },
  {
   "cell_type": "markdown",
   "id": "eae77520",
   "metadata": {},
   "source": [
    "P = 7 in our case. Thus m = 3."
   ]
  },
  {
   "cell_type": "code",
   "execution_count": 61,
   "id": "73fcea5e",
   "metadata": {},
   "outputs": [
    {
     "data": {
      "text/plain": [
       "0      1\n",
       "1      0\n",
       "2      1\n",
       "3      1\n",
       "4      0\n",
       "      ..\n",
       "348    1\n",
       "349    1\n",
       "350    0\n",
       "351    1\n",
       "352    1\n",
       "Name: mpg, Length: 353, dtype: int64"
      ]
     },
     "execution_count": 61,
     "metadata": {},
     "output_type": "execute_result"
    }
   ],
   "source": [
    "# Preprocess data.\n",
    "Y_autotrain.replace(['Low', 'High'],[0, 1], inplace=True)\n",
    "Y_autotest.replace(['Low', 'High'],[0, 1], inplace=True)\n",
    "Y_autotrain"
   ]
  },
  {
   "cell_type": "code",
   "execution_count": 62,
   "id": "fbaccbd0",
   "metadata": {},
   "outputs": [
    {
     "name": "stdout",
     "output_type": "stream",
     "text": [
      "Mean of squared residuals: 0.006715342776203966\n"
     ]
    }
   ],
   "source": [
    "from sklearn.ensemble import RandomForestRegressor\n",
    "rf_reg_bag = RandomForestRegressor(max_features = \"sqrt\", n_estimators = 500, random_state = 2203441, oob_score = True)\n",
    "rf_reg_bag.fit(X_autotrain, Y_autotrain)\n",
    "y_predrf = rf_reg_bag.predict(X_autotrain)\n",
    "#Fit the model with training data using random forest regressor.\n",
    "print(\"Mean of squared residuals:\", mean_squared_error(Y_autotrain, y_predrf))"
   ]
  },
  {
   "cell_type": "code",
   "execution_count": 63,
   "id": "bae754f2",
   "metadata": {},
   "outputs": [
    {
     "name": "stdout",
     "output_type": "stream",
     "text": [
      "       Features  Importance\n",
      "0     cylinders    0.202392\n",
      "1  displacement    0.255837\n",
      "2    horsepower    0.138284\n",
      "3        weight    0.218231\n",
      "4  acceleration    0.050173\n",
      "5          year    0.094203\n",
      "6        origin    0.040879\n"
     ]
    }
   ],
   "source": [
    "features = X_autotrain.columns\n",
    "importances = rf_reg_bag.feature_importances_\n",
    "print(pd.DataFrame({\"Features\":features, \"Importance\":importances}))"
   ]
  },
  {
   "cell_type": "code",
   "execution_count": 64,
   "id": "aed506a4",
   "metadata": {},
   "outputs": [
    {
     "data": {
      "text/plain": [
       "Text(0.5, 0, 'Gini importance')"
      ]
     },
     "execution_count": 64,
     "metadata": {},
     "output_type": "execute_result"
    },
    {
     "data": {
      "image/png": "[encoded data removed]",
      "text/plain": [
       "<Figure size 640x480 with 1 Axes>"
      ]
     },
     "metadata": {},
     "output_type": "display_data"
    }
   ],
   "source": [
    "idx = np.argsort(importances)[::-1]\n",
    "\n",
    "sns.barplot(x = importances[idx], y = features[idx])\n",
    "plt.title(\"Feature importance\")\n",
    "plt.xlabel(\"Gini importance\")"
   ]
  },
  {
   "cell_type": "code",
   "execution_count": 65,
   "id": "299e1569",
   "metadata": {},
   "outputs": [
    {
     "data": {
      "text/plain": [
       "array([[15,  2],\n",
       "       [ 2, 20]], dtype=int64)"
      ]
     },
     "execution_count": 65,
     "metadata": {},
     "output_type": "execute_result"
    }
   ],
   "source": [
    "# Get predictions.\n",
    "y_probrf = rf_reg_bag.predict(X_autotest)\n",
    "y_predrf = np.repeat(1, len(y_probrf))\n",
    "y_predrf[y_probrf < 0.5] = 0\n",
    "y_true = autotest[\"mpg\"].values\n",
    "confusion_matrix(Y_autotest, y_predrf) # Compute the confusion matrix."
   ]
  },
  {
   "cell_type": "code",
   "execution_count": 66,
   "id": "823f7cb7",
   "metadata": {},
   "outputs": [
    {
     "data": {
      "text/plain": [
       "0.8974358974358975"
      ]
     },
     "execution_count": 66,
     "metadata": {},
     "output_type": "execute_result"
    }
   ],
   "source": [
    "(y_predrf == Y_autotest).mean() #  Compute the overall fraction of correct predictions for the test data."
   ]
  },
  {
   "cell_type": "markdown",
   "id": "ba1d4481",
   "metadata": {},
   "source": [
    "(d) Apply one boosting approach (AdaBoost, XGBoost, etc.) with 500 trees."
   ]
  },
  {
   "cell_type": "markdown",
   "id": "735b0ad2",
   "metadata": {},
   "source": [
    "I choose to use AdaBoost here in my submission."
   ]
  },
  {
   "cell_type": "code",
   "execution_count": 67,
   "id": "89f7073b",
   "metadata": {},
   "outputs": [
    {
     "name": "stdout",
     "output_type": "stream",
     "text": [
      "In-sample confusion matrix:\n"
     ]
    },
    {
     "data": {
      "text/plain": [
       "array([[179,   0],\n",
       "       [  0, 174]], dtype=int64)"
      ]
     },
     "execution_count": 67,
     "metadata": {},
     "output_type": "execute_result"
    }
   ],
   "source": [
    "# Fit the model.\n",
    "from sklearn.ensemble import AdaBoostClassifier\n",
    "base_estimator = DecisionTreeClassifier(max_depth=5)\n",
    "ada_cls = AdaBoostClassifier(base_estimator, n_estimators = 500, random_state = 2203441)\n",
    "ada_cls.fit(X_autotrain, Y_autotrain)\n",
    "y_predAda = ada_cls.predict(X_autotrain)\n",
    "print(\"In-sample confusion matrix:\")\n",
    "confusion_matrix(Y_autotrain, y_predAda) # Compute the confusion matrix on training data."
   ]
  },
  {
   "cell_type": "code",
   "execution_count": 68,
   "id": "e72da0e7",
   "metadata": {},
   "outputs": [
    {
     "name": "stdout",
     "output_type": "stream",
     "text": [
      "[[15  2]\n",
      " [ 2 20]]\n"
     ]
    }
   ],
   "source": [
    "# Get predictions on test data.\n",
    "y_predAda = ada_cls.predict(X_autotest)\n",
    "cm = confusion_matrix(Y_autotest, y_predAda) # Compute the confusion matrix on training data.\n",
    "print(cm)"
   ]
  },
  {
   "cell_type": "code",
   "execution_count": 69,
   "id": "5fb7a568",
   "metadata": {},
   "outputs": [
    {
     "data": {
      "text/plain": [
       "0.8974358974358975"
      ]
     },
     "execution_count": 69,
     "metadata": {},
     "output_type": "execute_result"
    }
   ],
   "source": [
    "(y_predAda == Y_autotest).mean() #  Compute the overall fraction of correct predictions for the test data."
   ]
  },
  {
   "cell_type": "code",
   "execution_count": null,
   "id": "20a41f07",
   "metadata": {},
   "outputs": [],
   "source": []
  }
 ],
 "metadata": {
  "kernelspec": {
   "display_name": "Python 3 (ipykernel)",
   "language": "python",
   "name": "python3"
  },
  "language_info": {
   "codemirror_mode": {
    "name": "ipython",
    "version": 3
   },
   "file_extension": ".py",
   "mimetype": "text/x-python",
   "name": "python",
   "nbconvert_exporter": "python",
   "pygments_lexer": "ipython3",
   "version": "3.8.16"
  }
 },
 "nbformat": 4,
 "nbformat_minor": 5
}
